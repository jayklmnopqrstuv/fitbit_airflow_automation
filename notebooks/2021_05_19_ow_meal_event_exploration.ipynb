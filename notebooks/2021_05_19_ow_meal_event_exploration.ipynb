{
 "cells": [
  {
   "cell_type": "markdown",
   "metadata": {},
   "source": [
    "### Meal Event Exploration\n",
    "\n",
    "* Distribution of start_to_peak, peak_to_end per patient\n",
    "* Distribution of start_to_peak, peak_to_end per patient by morning ((0-12]) and afternoon [13-24]\n",
    "* Distribution of peak_glucose\n",
    "* Distribution of peak_glucose by time period\n",
    "* Distribution of excursion_size\n",
    "* Distribution of excursion_size by time period\n",
    "* Distribution of excursion rate by time period"
   ]
  },
  {
   "cell_type": "markdown",
   "metadata": {},
   "source": [
    "### Load packages"
   ]
  },
  {
   "cell_type": "code",
   "execution_count": 1,
   "metadata": {},
   "outputs": [
    {
     "name": "stderr",
     "output_type": "stream",
     "text": [
      "/opt/anaconda/anaconda3/lib/python3.7/site-packages/statsmodels/tools/_testing.py:19: FutureWarning: pandas.util.testing is deprecated. Use the functions in the public API at pandas.testing instead.\n",
      "  import pandas.util.testing as tm\n"
     ]
    }
   ],
   "source": [
    "import pandas as pd\n",
    "import numpy as np\n",
    "import matplotlib.pyplot as plt\n",
    "import seaborn as sns\n",
    "#import os\n",
    "import datetime\n",
    "import calendar\n",
    "import math\n",
    "from IPython.display import display\n",
    "import matplotlib.pyplot as plt\n",
    "from matplotlib.ticker import StrMethodFormatter\n",
    "import warnings; warnings.simplefilter('ignore')\n",
    "import pydata_google_auth as pgauth\n",
    "from google.cloud import bigquery\n",
    "creds = pgauth.get_user_credentials(['https://www.googleapis.com/auth/cloud-platform'])\n",
    "\n",
    "%matplotlib inline"
   ]
  },
  {
   "cell_type": "markdown",
   "metadata": {},
   "source": [
    "### Distribution of start_to_peak, peak_to_end per patient"
   ]
  },
  {
   "cell_type": "code",
   "execution_count": 48,
   "metadata": {},
   "outputs": [],
   "source": [
    "sql_script=\"\"\"\n",
    "SELECT\n",
    "  pim_id,\n",
    "  AVG(duration) as start_to_normal,\n",
    "  AVG(time_to_peak) AS start_to_peak,\n",
    "  AVG(TIMESTAMP_DIFF(return_to_baseline_datetime_local,peak_datetime_local, MINUTE)) AS peak_to_end\n",
    "FROM\n",
    "  odp_level2_feature_store.meal_events\n",
    "GROUP BY\n",
    "  pim_id\n",
    "\"\"\""
   ]
  },
  {
   "cell_type": "code",
   "execution_count": 49,
   "metadata": {},
   "outputs": [],
   "source": [
    "time=pd.read_gbq(sql_script,\\\n",
    "                             'research-01-217611', dialect='standard')"
   ]
  },
  {
   "cell_type": "code",
   "execution_count": 50,
   "metadata": {},
   "outputs": [
    {
     "data": {
      "text/html": [
       "<div>\n",
       "<style scoped>\n",
       "    .dataframe tbody tr th:only-of-type {\n",
       "        vertical-align: middle;\n",
       "    }\n",
       "\n",
       "    .dataframe tbody tr th {\n",
       "        vertical-align: top;\n",
       "    }\n",
       "\n",
       "    .dataframe thead th {\n",
       "        text-align: right;\n",
       "    }\n",
       "</style>\n",
       "<table border=\"1\" class=\"dataframe\">\n",
       "  <thead>\n",
       "    <tr style=\"text-align: right;\">\n",
       "      <th></th>\n",
       "      <th>pim_id</th>\n",
       "      <th>start_to_normal</th>\n",
       "      <th>start_to_peak</th>\n",
       "      <th>peak_to_end</th>\n",
       "    </tr>\n",
       "  </thead>\n",
       "  <tbody>\n",
       "    <tr>\n",
       "      <th>0</th>\n",
       "      <td>79808</td>\n",
       "      <td>161.236786</td>\n",
       "      <td>64.133192</td>\n",
       "      <td>97.103594</td>\n",
       "    </tr>\n",
       "    <tr>\n",
       "      <th>1</th>\n",
       "      <td>9273</td>\n",
       "      <td>157.916667</td>\n",
       "      <td>61.250000</td>\n",
       "      <td>96.666667</td>\n",
       "    </tr>\n",
       "    <tr>\n",
       "      <th>2</th>\n",
       "      <td>43958</td>\n",
       "      <td>162.355769</td>\n",
       "      <td>74.609375</td>\n",
       "      <td>87.746394</td>\n",
       "    </tr>\n",
       "    <tr>\n",
       "      <th>3</th>\n",
       "      <td>1278300</td>\n",
       "      <td>150.277778</td>\n",
       "      <td>62.638889</td>\n",
       "      <td>87.638889</td>\n",
       "    </tr>\n",
       "    <tr>\n",
       "      <th>4</th>\n",
       "      <td>1420086</td>\n",
       "      <td>168.395062</td>\n",
       "      <td>76.265432</td>\n",
       "      <td>92.129630</td>\n",
       "    </tr>\n",
       "  </tbody>\n",
       "</table>\n",
       "</div>"
      ],
      "text/plain": [
       "    pim_id  start_to_normal  start_to_peak  peak_to_end\n",
       "0    79808       161.236786      64.133192    97.103594\n",
       "1     9273       157.916667      61.250000    96.666667\n",
       "2    43958       162.355769      74.609375    87.746394\n",
       "3  1278300       150.277778      62.638889    87.638889\n",
       "4  1420086       168.395062      76.265432    92.129630"
      ]
     },
     "execution_count": 50,
     "metadata": {},
     "output_type": "execute_result"
    }
   ],
   "source": [
    "time.head()"
   ]
  },
  {
   "cell_type": "code",
   "execution_count": 51,
   "metadata": {},
   "outputs": [
    {
     "data": {
      "text/plain": [
       "(11407, 4)"
      ]
     },
     "execution_count": 51,
     "metadata": {},
     "output_type": "execute_result"
    }
   ],
   "source": [
    "time.shape"
   ]
  },
  {
   "cell_type": "code",
   "execution_count": 52,
   "metadata": {},
   "outputs": [
    {
     "data": {
      "text/plain": [
       "pim_id             0\n",
       "start_to_normal    0\n",
       "start_to_peak      0\n",
       "peak_to_end        0\n",
       "dtype: int64"
      ]
     },
     "execution_count": 52,
     "metadata": {},
     "output_type": "execute_result"
    }
   ],
   "source": [
    "time.isnull().sum()"
   ]
  },
  {
   "cell_type": "code",
   "execution_count": 56,
   "metadata": {},
   "outputs": [
    {
     "name": "stdout",
     "output_type": "stream",
     "text": [
      "60.0 290.0\n"
     ]
    }
   ],
   "source": [
    "print(time.start_to_normal.min(),time.start_to_normal.max())"
   ]
  },
  {
   "cell_type": "code",
   "execution_count": 53,
   "metadata": {},
   "outputs": [
    {
     "name": "stdout",
     "output_type": "stream",
     "text": [
      "0.0 230.0\n"
     ]
    }
   ],
   "source": [
    "print(time.start_to_peak.min(),time.start_to_peak.max())"
   ]
  },
  {
   "cell_type": "code",
   "execution_count": 54,
   "metadata": {},
   "outputs": [
    {
     "name": "stdout",
     "output_type": "stream",
     "text": [
      "0.0 255.0\n"
     ]
    }
   ],
   "source": [
    "print(time.peak_to_end.min(),time.peak_to_end.max())"
   ]
  },
  {
   "cell_type": "markdown",
   "metadata": {},
   "source": [
    "**start to normal**"
   ]
  },
  {
   "cell_type": "code",
   "execution_count": 57,
   "metadata": {},
   "outputs": [
    {
     "data": {
      "text/plain": [
       "164.0625"
      ]
     },
     "execution_count": 57,
     "metadata": {},
     "output_type": "execute_result"
    }
   ],
   "source": [
    "time['start_to_normal'].median()"
   ]
  },
  {
   "cell_type": "code",
   "execution_count": 58,
   "metadata": {},
   "outputs": [
    {
     "data": {
      "text/plain": [
       "14.843431347854251"
      ]
     },
     "execution_count": 58,
     "metadata": {},
     "output_type": "execute_result"
    }
   ],
   "source": [
    "time['start_to_normal'].std()"
   ]
  },
  {
   "cell_type": "code",
   "execution_count": 59,
   "metadata": {},
   "outputs": [
    {
     "data": {
      "image/png": "[encoded data removed]",
      "text/plain": [
       "<Figure size 1080x720 with 1 Axes>"
      ]
     },
     "metadata": {
      "needs_background": "light"
     },
     "output_type": "display_data"
    }
   ],
   "source": [
    "Days=time['start_to_normal']\n",
    "plt.figure(figsize=(15, 10)) \n",
    "plt.hist(Days, range=(np.min(Days),np.max(Days)),\n",
    "         linewidth=2,color=\"#3F5D7D\",bins=150, edgecolor='#1d7874')\n",
    "plt.axvline(Days.mean(), color='k', linestyle='dashed', linewidth=1)\n",
    "_, max_ = plt.ylim()\n",
    "plt.text(Days.mean() + Days.mean()/10, \n",
    "         max_ - max_/10, \n",
    "         'Mean: {:.2f}'.format(Days.mean()))\n",
    "ax = plt.subplot(111)  \n",
    "ax.spines[\"top\"].set_visible(False)  \n",
    "ax.spines[\"right\"].set_visible(False)  \n",
    "\n",
    "ax.get_xaxis().tick_bottom()  \n",
    "ax.get_yaxis().tick_left()\n",
    "plt.xticks(fontsize=14)  \n",
    "plt.yticks(fontsize=14)  \n",
    "\n",
    "plt.title('Start to Normal Histgram', fontsize=16)\n",
    "plt.xlabel('Duration From Start to Normal(min)', fontsize=16)\n",
    "plt.ylabel('Frequency of Duration');"
   ]
  },
  {
   "cell_type": "markdown",
   "metadata": {},
   "source": [
    "**start_to_peak**"
   ]
  },
  {
   "cell_type": "code",
   "execution_count": 14,
   "metadata": {},
   "outputs": [
    {
     "data": {
      "text/plain": [
       "73.97379912663756"
      ]
     },
     "execution_count": 14,
     "metadata": {},
     "output_type": "execute_result"
    }
   ],
   "source": [
    "time['start_to_peak'].median()"
   ]
  },
  {
   "cell_type": "code",
   "execution_count": 20,
   "metadata": {},
   "outputs": [
    {
     "data": {
      "text/plain": [
       "12.184091794623724"
      ]
     },
     "execution_count": 20,
     "metadata": {},
     "output_type": "execute_result"
    }
   ],
   "source": [
    "time['start_to_peak'].std()"
   ]
  },
  {
   "cell_type": "code",
   "execution_count": 16,
   "metadata": {},
   "outputs": [
    {
     "data": {
      "image/png": "[encoded data removed]",
      "text/plain": [
       "<Figure size 1080x720 with 1 Axes>"
      ]
     },
     "metadata": {
      "needs_background": "light"
     },
     "output_type": "display_data"
    }
   ],
   "source": [
    "Days=time['start_to_peak']\n",
    "plt.figure(figsize=(15, 10)) \n",
    "plt.hist(Days, range=(np.min(Days),np.max(Days)),\n",
    "         linewidth=2,color=\"#3F5D7D\",bins=150, edgecolor='#1d7874')\n",
    "plt.axvline(Days.mean(), color='k', linestyle='dashed', linewidth=1)\n",
    "_, max_ = plt.ylim()\n",
    "plt.text(Days.mean() + Days.mean()/10, \n",
    "         max_ - max_/10, \n",
    "         'Mean: {:.2f}'.format(Days.mean()))\n",
    "ax = plt.subplot(111)  \n",
    "ax.spines[\"top\"].set_visible(False)  \n",
    "ax.spines[\"right\"].set_visible(False)  \n",
    "\n",
    "ax.get_xaxis().tick_bottom()  \n",
    "ax.get_yaxis().tick_left()\n",
    "plt.xticks(fontsize=14)  \n",
    "plt.yticks(fontsize=14)  \n",
    "\n",
    "plt.title('Time to Peak Histgram', fontsize=16)\n",
    "plt.xlabel('Time to Peak(min)', fontsize=16)\n",
    "plt.ylabel('Frequency of Time to Peak');"
   ]
  },
  {
   "cell_type": "markdown",
   "metadata": {},
   "source": [
    "**peak to end**"
   ]
  },
  {
   "cell_type": "code",
   "execution_count": 15,
   "metadata": {},
   "outputs": [
    {
     "data": {
      "text/plain": [
       "89.49612403100772"
      ]
     },
     "execution_count": 15,
     "metadata": {},
     "output_type": "execute_result"
    }
   ],
   "source": [
    "time['peak_to_end'].median()"
   ]
  },
  {
   "cell_type": "code",
   "execution_count": 19,
   "metadata": {},
   "outputs": [
    {
     "data": {
      "text/plain": [
       "12.324618607441815"
      ]
     },
     "execution_count": 19,
     "metadata": {},
     "output_type": "execute_result"
    }
   ],
   "source": [
    "time['peak_to_end'].std()"
   ]
  },
  {
   "cell_type": "code",
   "execution_count": 17,
   "metadata": {},
   "outputs": [
    {
     "data": {
      "image/png": "[encoded data removed]",
      "text/plain": [
       "<Figure size 1080x720 with 1 Axes>"
      ]
     },
     "metadata": {
      "needs_background": "light"
     },
     "output_type": "display_data"
    }
   ],
   "source": [
    "Days=time['peak_to_end']\n",
    "plt.figure(figsize=(15, 10)) \n",
    "plt.hist(Days, range=(np.min(Days),np.max(Days)),\n",
    "         linewidth=2,color=\"#3F5D7D\",bins=150, edgecolor='#1d7874')\n",
    "plt.axvline(Days.mean(), color='k', linestyle='dashed', linewidth=1)\n",
    "_, max_ = plt.ylim()\n",
    "plt.text(Days.mean() + Days.mean()/10, \n",
    "         max_ - max_/10, \n",
    "         'Mean: {:.2f}'.format(Days.mean()))\n",
    "ax = plt.subplot(111)  \n",
    "ax.spines[\"top\"].set_visible(False)  \n",
    "ax.spines[\"right\"].set_visible(False)  \n",
    "\n",
    "ax.get_xaxis().tick_bottom()  \n",
    "ax.get_yaxis().tick_left()\n",
    "plt.xticks(fontsize=14)  \n",
    "plt.yticks(fontsize=14)  \n",
    "\n",
    "plt.title('Peak to Normal Histgram', fontsize=16)\n",
    "plt.xlabel('Peak to Normal(min)', fontsize=16)\n",
    "plt.ylabel('Frequency of Peak to Normal');"
   ]
  },
  {
   "cell_type": "markdown",
   "metadata": {},
   "source": [
    "### Distribution of start_to_peak, peak_to_end per patient by midnight,morning,afternoon and night"
   ]
  },
  {
   "cell_type": "code",
   "execution_count": 35,
   "metadata": {},
   "outputs": [],
   "source": [
    "sql_script=\"\"\"\n",
    "  (\n",
    "  SELECT\n",
    "    pim_id,\n",
    "    'Sleep (0,6]' AS time_range,\n",
    "    AVG(time_to_peak) AS start_to_peak,\n",
    "    AVG(TIMESTAMP_DIFF(return_to_baseline_datetime_local,peak_datetime_local, MINUTE)) AS peak_to_end\n",
    "  FROM\n",
    "    odp_level2_feature_store.meal_events\n",
    "  WHERE\n",
    "    EXTRACT(hour\n",
    "    FROM\n",
    "      start_datetime_local)<=6\n",
    "    AND EXTRACT(hour\n",
    "    FROM\n",
    "      start_datetime_local)>0\n",
    "  GROUP BY\n",
    "    pim_id)\n",
    "UNION ALL (\n",
    "  SELECT\n",
    "    pim_id,\n",
    "    'Morning (6,12]' AS time_range,\n",
    "    AVG(time_to_peak) AS start_to_peak,\n",
    "    AVG(TIMESTAMP_DIFF(return_to_baseline_datetime_local,peak_datetime_local, MINUTE)) AS peak_to_end\n",
    "  FROM\n",
    "    odp_level2_feature_store.meal_events\n",
    "  WHERE\n",
    "    EXTRACT(hour\n",
    "    FROM\n",
    "      start_datetime_local)<=12\n",
    "    AND EXTRACT(hour\n",
    "    FROM\n",
    "      start_datetime_local)>6\n",
    "  GROUP BY\n",
    "    pim_id)\n",
    "UNION ALL (\n",
    "  SELECT\n",
    "    pim_id,\n",
    "    'Afternoon (12,18]' AS time_range,\n",
    "    AVG(time_to_peak) AS start_to_peak,\n",
    "    AVG(TIMESTAMP_DIFF(return_to_baseline_datetime_local,peak_datetime_local, MINUTE)) AS peak_to_end\n",
    "  FROM\n",
    "    odp_level2_feature_store.meal_events\n",
    "  WHERE\n",
    "    EXTRACT(hour\n",
    "    FROM\n",
    "      start_datetime_local)<=18\n",
    "    AND EXTRACT(hour\n",
    "    FROM\n",
    "      start_datetime_local)>12\n",
    "  GROUP BY\n",
    "    pim_id)\n",
    "UNION ALL (\n",
    "  SELECT\n",
    "    pim_id,\n",
    "    'Night (18,24]' AS time_range,\n",
    "    AVG(time_to_peak) AS start_to_peak,\n",
    "    AVG(TIMESTAMP_DIFF(return_to_baseline_datetime_local,peak_datetime_local, MINUTE)) AS peak_to_end\n",
    "  FROM\n",
    "    odp_level2_feature_store.meal_events\n",
    "  WHERE\n",
    "    (EXTRACT(hour\n",
    "      FROM\n",
    "        start_datetime_local)<=23\n",
    "      AND EXTRACT(hour\n",
    "      FROM\n",
    "        start_datetime_local)>18)\n",
    "    OR (EXTRACT(hour\n",
    "      FROM\n",
    "        start_datetime_local)=0)\n",
    "  GROUP BY\n",
    "    pim_id)\n",
    "\"\"\""
   ]
  },
  {
   "cell_type": "code",
   "execution_count": 36,
   "metadata": {},
   "outputs": [],
   "source": [
    "period=pd.read_gbq(sql_script,\\\n",
    "                             'research-01-217611', dialect='standard')"
   ]
  },
  {
   "cell_type": "code",
   "execution_count": 37,
   "metadata": {},
   "outputs": [
    {
     "data": {
      "text/plain": [
       "(44571, 4)"
      ]
     },
     "execution_count": 37,
     "metadata": {},
     "output_type": "execute_result"
    }
   ],
   "source": [
    "period.shape"
   ]
  },
  {
   "cell_type": "code",
   "execution_count": 38,
   "metadata": {},
   "outputs": [
    {
     "data": {
      "text/html": [
       "<div>\n",
       "<style scoped>\n",
       "    .dataframe tbody tr th:only-of-type {\n",
       "        vertical-align: middle;\n",
       "    }\n",
       "\n",
       "    .dataframe tbody tr th {\n",
       "        vertical-align: top;\n",
       "    }\n",
       "\n",
       "    .dataframe thead th {\n",
       "        text-align: right;\n",
       "    }\n",
       "</style>\n",
       "<table border=\"1\" class=\"dataframe\">\n",
       "  <thead>\n",
       "    <tr style=\"text-align: right;\">\n",
       "      <th></th>\n",
       "      <th>pim_id</th>\n",
       "      <th>time_range</th>\n",
       "      <th>start_to_peak</th>\n",
       "      <th>peak_to_end</th>\n",
       "    </tr>\n",
       "  </thead>\n",
       "  <tbody>\n",
       "    <tr>\n",
       "      <th>0</th>\n",
       "      <td>1383361</td>\n",
       "      <td>Night (18,24]</td>\n",
       "      <td>77.500000</td>\n",
       "      <td>61.363636</td>\n",
       "    </tr>\n",
       "    <tr>\n",
       "      <th>1</th>\n",
       "      <td>1264411</td>\n",
       "      <td>Night (18,24]</td>\n",
       "      <td>77.250000</td>\n",
       "      <td>67.350000</td>\n",
       "    </tr>\n",
       "    <tr>\n",
       "      <th>2</th>\n",
       "      <td>119733</td>\n",
       "      <td>Night (18,24]</td>\n",
       "      <td>90.459770</td>\n",
       "      <td>68.505747</td>\n",
       "    </tr>\n",
       "    <tr>\n",
       "      <th>3</th>\n",
       "      <td>227716</td>\n",
       "      <td>Night (18,24]</td>\n",
       "      <td>91.866667</td>\n",
       "      <td>71.700000</td>\n",
       "    </tr>\n",
       "    <tr>\n",
       "      <th>4</th>\n",
       "      <td>93587</td>\n",
       "      <td>Night (18,24]</td>\n",
       "      <td>134.000000</td>\n",
       "      <td>81.500000</td>\n",
       "    </tr>\n",
       "  </tbody>\n",
       "</table>\n",
       "</div>"
      ],
      "text/plain": [
       "    pim_id     time_range  start_to_peak  peak_to_end\n",
       "0  1383361  Night (18,24]      77.500000    61.363636\n",
       "1  1264411  Night (18,24]      77.250000    67.350000\n",
       "2   119733  Night (18,24]      90.459770    68.505747\n",
       "3   227716  Night (18,24]      91.866667    71.700000\n",
       "4    93587  Night (18,24]     134.000000    81.500000"
      ]
     },
     "execution_count": 38,
     "metadata": {},
     "output_type": "execute_result"
    }
   ],
   "source": [
    "period.head()"
   ]
  },
  {
   "cell_type": "code",
   "execution_count": 39,
   "metadata": {},
   "outputs": [
    {
     "data": {
      "text/plain": [
       "Morning (6,12]       11255\n",
       "Afternoon (12,18]    11226\n",
       "Night (18,24]        11095\n",
       "Sleep (0,6]          10995\n",
       "Name: time_range, dtype: int64"
      ]
     },
     "execution_count": 39,
     "metadata": {},
     "output_type": "execute_result"
    }
   ],
   "source": [
    "period.time_range.value_counts()"
   ]
  },
  {
   "cell_type": "code",
   "execution_count": 43,
   "metadata": {},
   "outputs": [
    {
     "data": {
      "text/plain": [
       "Text(0, 0.5, 'Time To Peak (min)')"
      ]
     },
     "execution_count": 43,
     "metadata": {},
     "output_type": "execute_result"
    },
    {
     "data": {
      "image/png": "[encoded data removed]",
      "text/plain": [
       "<Figure size 1080x576 with 1 Axes>"
      ]
     },
     "metadata": {
      "needs_background": "light"
     },
     "output_type": "display_data"
    }
   ],
   "source": [
    "var = 'time_range'\n",
    "#data = pd.concat([df_train['SalePrice'], df_train[var]], axis=1)\n",
    "f, ax = plt.subplots(figsize=(15, 8))\n",
    "fig = sns.boxplot(x=var, y=\"start_to_peak\", data=period,showfliers=False)\n",
    "fig.axis(ymin=0, ymax=200);\n",
    "plt.title('Boxplot of time to peak', fontsize=15)\n",
    "plt.xlabel('Start Time Period in One Day', fontsize=12)\n",
    "plt.ylabel('Time To Peak (min)',fontsize=15)"
   ]
  },
  {
   "cell_type": "code",
   "execution_count": 44,
   "metadata": {},
   "outputs": [
    {
     "data": {
      "text/plain": [
       "time_range\n",
       "Afternoon (12,18]    80.986807\n",
       "Morning (6,12]       65.720109\n",
       "Night (18,24]        76.619518\n",
       "Sleep (0,6]          74.153319\n",
       "Name: start_to_peak, dtype: float64"
      ]
     },
     "execution_count": 44,
     "metadata": {},
     "output_type": "execute_result"
    }
   ],
   "source": [
    "period.groupby('time_range')['start_to_peak'].mean()"
   ]
  },
  {
   "cell_type": "code",
   "execution_count": 45,
   "metadata": {},
   "outputs": [
    {
     "data": {
      "text/plain": [
       "Text(0, 0.5, 'Peak to Normal')"
      ]
     },
     "execution_count": 45,
     "metadata": {},
     "output_type": "execute_result"
    },
    {
     "data": {
      "image/png": "[encoded data removed]",
      "text/plain": [
       "<Figure size 1080x576 with 1 Axes>"
      ]
     },
     "metadata": {
      "needs_background": "light"
     },
     "output_type": "display_data"
    }
   ],
   "source": [
    "var = 'time_range'\n",
    "#data = pd.concat([df_train['SalePrice'], df_train[var]], axis=1)\n",
    "f, ax = plt.subplots(figsize=(15, 8))\n",
    "fig = sns.boxplot(x=var, y=\"peak_to_end\", data=period,showfliers=False)\n",
    "fig.axis(ymin=0, ymax=200);\n",
    "plt.title('Boxplot of peak to normal', fontsize=15)\n",
    "plt.xlabel('Start Time Period in One Day', fontsize=12)\n",
    "plt.ylabel('Peak to Normal',fontsize=15)"
   ]
  },
  {
   "cell_type": "code",
   "execution_count": 47,
   "metadata": {},
   "outputs": [
    {
     "data": {
      "text/plain": [
       "time_range\n",
       "Afternoon (12,18]    89.146844\n",
       "Morning (6,12]       99.673792\n",
       "Night (18,24]        73.938906\n",
       "Sleep (0,6]          89.041483\n",
       "Name: peak_to_end, dtype: float64"
      ]
     },
     "execution_count": 47,
     "metadata": {},
     "output_type": "execute_result"
    }
   ],
   "source": [
    "period.groupby('time_range')['peak_to_end'].mean()"
   ]
  },
  {
   "cell_type": "markdown",
   "metadata": {},
   "source": [
    "### Distribution of peak_glucose"
   ]
  },
  {
   "cell_type": "code",
   "execution_count": 60,
   "metadata": {},
   "outputs": [],
   "source": [
    "sql_script=\"\"\"\n",
    "SELECT\n",
    "    pim_id,\n",
    "    AVG(peak_glucose) AS peak_glucose\n",
    "    from odp_level2_feature_store.meal_events\n",
    "  GROUP BY\n",
    "    pim_id\n",
    "\"\"\""
   ]
  },
  {
   "cell_type": "code",
   "execution_count": 61,
   "metadata": {},
   "outputs": [],
   "source": [
    "peak=pd.read_gbq(sql_script,\\\n",
    "                             'research-01-217611', dialect='standard')"
   ]
  },
  {
   "cell_type": "code",
   "execution_count": 62,
   "metadata": {},
   "outputs": [
    {
     "data": {
      "text/html": [
       "<div>\n",
       "<style scoped>\n",
       "    .dataframe tbody tr th:only-of-type {\n",
       "        vertical-align: middle;\n",
       "    }\n",
       "\n",
       "    .dataframe tbody tr th {\n",
       "        vertical-align: top;\n",
       "    }\n",
       "\n",
       "    .dataframe thead th {\n",
       "        text-align: right;\n",
       "    }\n",
       "</style>\n",
       "<table border=\"1\" class=\"dataframe\">\n",
       "  <thead>\n",
       "    <tr style=\"text-align: right;\">\n",
       "      <th></th>\n",
       "      <th>pim_id</th>\n",
       "      <th>peak_glucose</th>\n",
       "    </tr>\n",
       "  </thead>\n",
       "  <tbody>\n",
       "    <tr>\n",
       "      <th>0</th>\n",
       "      <td>1413158</td>\n",
       "      <td>167.204372</td>\n",
       "    </tr>\n",
       "    <tr>\n",
       "      <th>1</th>\n",
       "      <td>1257997</td>\n",
       "      <td>175.808333</td>\n",
       "    </tr>\n",
       "    <tr>\n",
       "      <th>2</th>\n",
       "      <td>1297439</td>\n",
       "      <td>224.676892</td>\n",
       "    </tr>\n",
       "    <tr>\n",
       "      <th>3</th>\n",
       "      <td>1259322</td>\n",
       "      <td>165.397138</td>\n",
       "    </tr>\n",
       "    <tr>\n",
       "      <th>4</th>\n",
       "      <td>1260453</td>\n",
       "      <td>313.451311</td>\n",
       "    </tr>\n",
       "  </tbody>\n",
       "</table>\n",
       "</div>"
      ],
      "text/plain": [
       "    pim_id  peak_glucose\n",
       "0  1413158    167.204372\n",
       "1  1257997    175.808333\n",
       "2  1297439    224.676892\n",
       "3  1259322    165.397138\n",
       "4  1260453    313.451311"
      ]
     },
     "execution_count": 62,
     "metadata": {},
     "output_type": "execute_result"
    }
   ],
   "source": [
    "peak.head()"
   ]
  },
  {
   "cell_type": "code",
   "execution_count": 64,
   "metadata": {},
   "outputs": [
    {
     "data": {
      "text/plain": [
       "199.2915254237288"
      ]
     },
     "execution_count": 64,
     "metadata": {},
     "output_type": "execute_result"
    }
   ],
   "source": [
    "peak.peak_glucose.median()"
   ]
  },
  {
   "cell_type": "code",
   "execution_count": 65,
   "metadata": {},
   "outputs": [
    {
     "data": {
      "text/plain": [
       "45.932905807057196"
      ]
     },
     "execution_count": 65,
     "metadata": {},
     "output_type": "execute_result"
    }
   ],
   "source": [
    "peak.peak_glucose.std()"
   ]
  },
  {
   "cell_type": "code",
   "execution_count": 66,
   "metadata": {},
   "outputs": [
    {
     "data": {
      "text/plain": [
       "96.68571428571428"
      ]
     },
     "execution_count": 66,
     "metadata": {},
     "output_type": "execute_result"
    }
   ],
   "source": [
    "peak.peak_glucose.min()"
   ]
  },
  {
   "cell_type": "code",
   "execution_count": 63,
   "metadata": {},
   "outputs": [
    {
     "data": {
      "image/png": "[encoded data removed]",
      "text/plain": [
       "<Figure size 1080x720 with 1 Axes>"
      ]
     },
     "metadata": {
      "needs_background": "light"
     },
     "output_type": "display_data"
    }
   ],
   "source": [
    "Days=peak['peak_glucose']\n",
    "plt.figure(figsize=(15, 10)) \n",
    "plt.hist(Days, range=(np.min(Days),np.max(Days)),\n",
    "         linewidth=2,color=\"#3F5D7D\",bins=150, edgecolor='#1d7874')\n",
    "plt.axvline(Days.mean(), color='k', linestyle='dashed', linewidth=1)\n",
    "_, max_ = plt.ylim()\n",
    "plt.text(Days.mean() + Days.mean()/10, \n",
    "         max_ - max_/10, \n",
    "         'Mean: {:.2f}'.format(Days.mean()))\n",
    "ax = plt.subplot(111)  \n",
    "ax.spines[\"top\"].set_visible(False)  \n",
    "ax.spines[\"right\"].set_visible(False)  \n",
    "\n",
    "ax.get_xaxis().tick_bottom()  \n",
    "ax.get_yaxis().tick_left()\n",
    "plt.xticks(fontsize=14)  \n",
    "plt.yticks(fontsize=14)  \n",
    "\n",
    "plt.title('Average Peak Glucose Histgram', fontsize=16)\n",
    "plt.xlabel('Peak Glucose', fontsize=16)\n",
    "plt.ylabel('Frequency of Peak Glucose');"
   ]
  },
  {
   "cell_type": "code",
   "execution_count": 67,
   "metadata": {},
   "outputs": [
    {
     "data": {
      "text/plain": [
       "(11407, 2)"
      ]
     },
     "execution_count": 67,
     "metadata": {},
     "output_type": "execute_result"
    }
   ],
   "source": [
    "peak.shape"
   ]
  },
  {
   "cell_type": "markdown",
   "metadata": {},
   "source": [
    "### Distribution of peak_glucose by time period"
   ]
  },
  {
   "cell_type": "code",
   "execution_count": 72,
   "metadata": {},
   "outputs": [],
   "source": [
    "sql_script=\"\"\"\n",
    "  (\n",
    "  SELECT\n",
    "    pim_id,\n",
    "    'Sleep (0,6]' AS time_range,\n",
    "    AVG(peak_glucose) AS peak_glucose\n",
    "  FROM\n",
    "    odp_level2_feature_store.meal_events\n",
    "  WHERE\n",
    "    EXTRACT(hour\n",
    "    FROM\n",
    "      start_datetime_local)<=6\n",
    "    AND EXTRACT(hour\n",
    "    FROM\n",
    "      start_datetime_local)>0\n",
    "  GROUP BY\n",
    "    pim_id)\n",
    "UNION ALL (\n",
    "  SELECT\n",
    "    pim_id,\n",
    "    'Morning (6,12]' AS time_range,\n",
    "    AVG(peak_glucose) AS peak_glucose\n",
    "  FROM\n",
    "    odp_level2_feature_store.meal_events\n",
    "  WHERE\n",
    "    EXTRACT(hour\n",
    "    FROM\n",
    "      start_datetime_local)<=12\n",
    "    AND EXTRACT(hour\n",
    "    FROM\n",
    "      start_datetime_local)>6\n",
    "  GROUP BY\n",
    "    pim_id)\n",
    "UNION ALL (\n",
    "  SELECT\n",
    "    pim_id,\n",
    "    'Afternoon (12,18]' AS time_range,\n",
    "    AVG(peak_glucose) AS peak_glucose\n",
    "  FROM\n",
    "    odp_level2_feature_store.meal_events\n",
    "  WHERE\n",
    "    EXTRACT(hour\n",
    "    FROM\n",
    "      start_datetime_local)<=18\n",
    "    AND EXTRACT(hour\n",
    "    FROM\n",
    "      start_datetime_local)>12\n",
    "  GROUP BY\n",
    "    pim_id)\n",
    "UNION ALL (\n",
    "  SELECT\n",
    "    pim_id,\n",
    "    'Night (18,24]' AS time_range,\n",
    "    AVG(peak_glucose) AS peak_glucose\n",
    "  FROM\n",
    "    odp_level2_feature_store.meal_events\n",
    "  WHERE\n",
    "    (EXTRACT(hour\n",
    "      FROM\n",
    "        start_datetime_local)<=23\n",
    "      AND EXTRACT(hour\n",
    "      FROM\n",
    "        start_datetime_local)>18)\n",
    "    OR (EXTRACT(hour\n",
    "      FROM\n",
    "        start_datetime_local)=0)\n",
    "  GROUP BY\n",
    "    pim_id)\n",
    "\"\"\""
   ]
  },
  {
   "cell_type": "code",
   "execution_count": 73,
   "metadata": {},
   "outputs": [],
   "source": [
    "peak_time=pd.read_gbq(sql_script,\\\n",
    "                             'research-01-217611', dialect='standard')"
   ]
  },
  {
   "cell_type": "code",
   "execution_count": 74,
   "metadata": {},
   "outputs": [
    {
     "data": {
      "text/html": [
       "<div>\n",
       "<style scoped>\n",
       "    .dataframe tbody tr th:only-of-type {\n",
       "        vertical-align: middle;\n",
       "    }\n",
       "\n",
       "    .dataframe tbody tr th {\n",
       "        vertical-align: top;\n",
       "    }\n",
       "\n",
       "    .dataframe thead th {\n",
       "        text-align: right;\n",
       "    }\n",
       "</style>\n",
       "<table border=\"1\" class=\"dataframe\">\n",
       "  <thead>\n",
       "    <tr style=\"text-align: right;\">\n",
       "      <th></th>\n",
       "      <th>pim_id</th>\n",
       "      <th>time_range</th>\n",
       "      <th>peak_glucose</th>\n",
       "    </tr>\n",
       "  </thead>\n",
       "  <tbody>\n",
       "    <tr>\n",
       "      <th>0</th>\n",
       "      <td>1261315</td>\n",
       "      <td>Afternoon (12,18]</td>\n",
       "      <td>218.344910</td>\n",
       "    </tr>\n",
       "    <tr>\n",
       "      <th>1</th>\n",
       "      <td>115790</td>\n",
       "      <td>Afternoon (12,18]</td>\n",
       "      <td>173.024752</td>\n",
       "    </tr>\n",
       "    <tr>\n",
       "      <th>2</th>\n",
       "      <td>208690</td>\n",
       "      <td>Afternoon (12,18]</td>\n",
       "      <td>174.078182</td>\n",
       "    </tr>\n",
       "    <tr>\n",
       "      <th>3</th>\n",
       "      <td>186653</td>\n",
       "      <td>Afternoon (12,18]</td>\n",
       "      <td>252.280303</td>\n",
       "    </tr>\n",
       "    <tr>\n",
       "      <th>4</th>\n",
       "      <td>10778595</td>\n",
       "      <td>Afternoon (12,18]</td>\n",
       "      <td>187.600000</td>\n",
       "    </tr>\n",
       "  </tbody>\n",
       "</table>\n",
       "</div>"
      ],
      "text/plain": [
       "     pim_id         time_range  peak_glucose\n",
       "0   1261315  Afternoon (12,18]    218.344910\n",
       "1    115790  Afternoon (12,18]    173.024752\n",
       "2    208690  Afternoon (12,18]    174.078182\n",
       "3    186653  Afternoon (12,18]    252.280303\n",
       "4  10778595  Afternoon (12,18]    187.600000"
      ]
     },
     "execution_count": 74,
     "metadata": {},
     "output_type": "execute_result"
    }
   ],
   "source": [
    "peak_time.head()"
   ]
  },
  {
   "cell_type": "code",
   "execution_count": 75,
   "metadata": {},
   "outputs": [
    {
     "data": {
      "text/plain": [
       "time_range\n",
       "Afternoon (12,18]    206.025462\n",
       "Morning (6,12]       206.958937\n",
       "Night (18,24]        213.390979\n",
       "Sleep (0,6]          196.261381\n",
       "Name: peak_glucose, dtype: float64"
      ]
     },
     "execution_count": 75,
     "metadata": {},
     "output_type": "execute_result"
    }
   ],
   "source": [
    "peak_time.groupby('time_range')['peak_glucose'].mean()"
   ]
  },
  {
   "cell_type": "code",
   "execution_count": 79,
   "metadata": {},
   "outputs": [
    {
     "data": {
      "text/plain": [
       "Text(0, 0.5, 'average peak glucose')"
      ]
     },
     "execution_count": 79,
     "metadata": {},
     "output_type": "execute_result"
    },
    {
     "data": {
      "image/png": "[encoded data removed]",
      "text/plain": [
       "<Figure size 1080x576 with 1 Axes>"
      ]
     },
     "metadata": {
      "needs_background": "light"
     },
     "output_type": "display_data"
    }
   ],
   "source": [
    "var = 'time_range'\n",
    "#data = pd.concat([df_train['SalePrice'], df_train[var]], axis=1)\n",
    "f, ax = plt.subplots(figsize=(15, 8))\n",
    "fig = sns.boxplot(x=var, y=\"peak_glucose\", data=peak_time,showfliers=False)\n",
    "fig.axis(ymin=40, ymax=400);\n",
    "plt.title('Boxplot of average peak glucose', fontsize=15)\n",
    "plt.xlabel('Start Time Period in One Day', fontsize=12)\n",
    "plt.ylabel('average peak glucose',fontsize=15)"
   ]
  },
  {
   "cell_type": "markdown",
   "metadata": {},
   "source": [
    "### Distribution of excursion_size"
   ]
  },
  {
   "cell_type": "code",
   "execution_count": 81,
   "metadata": {},
   "outputs": [],
   "source": [
    "sql_script=\"\"\"\n",
    "SELECT\n",
    "    pim_id,\n",
    "    AVG(excursion_size) AS excursion_size\n",
    "    from odp_level2_feature_store.meal_events\n",
    "  GROUP BY\n",
    "    pim_id\n",
    "\"\"\""
   ]
  },
  {
   "cell_type": "code",
   "execution_count": 82,
   "metadata": {},
   "outputs": [],
   "source": [
    "excursion=pd.read_gbq(sql_script,\\\n",
    "                             'research-01-217611', dialect='standard')"
   ]
  },
  {
   "cell_type": "code",
   "execution_count": 83,
   "metadata": {},
   "outputs": [
    {
     "data": {
      "text/html": [
       "<div>\n",
       "<style scoped>\n",
       "    .dataframe tbody tr th:only-of-type {\n",
       "        vertical-align: middle;\n",
       "    }\n",
       "\n",
       "    .dataframe tbody tr th {\n",
       "        vertical-align: top;\n",
       "    }\n",
       "\n",
       "    .dataframe thead th {\n",
       "        text-align: right;\n",
       "    }\n",
       "</style>\n",
       "<table border=\"1\" class=\"dataframe\">\n",
       "  <thead>\n",
       "    <tr style=\"text-align: right;\">\n",
       "      <th></th>\n",
       "      <th>pim_id</th>\n",
       "      <th>excursion_size</th>\n",
       "    </tr>\n",
       "  </thead>\n",
       "  <tbody>\n",
       "    <tr>\n",
       "      <th>0</th>\n",
       "      <td>129964</td>\n",
       "      <td>36.268056</td>\n",
       "    </tr>\n",
       "    <tr>\n",
       "      <th>1</th>\n",
       "      <td>1277225</td>\n",
       "      <td>28.698475</td>\n",
       "    </tr>\n",
       "    <tr>\n",
       "      <th>2</th>\n",
       "      <td>1330625</td>\n",
       "      <td>48.761954</td>\n",
       "    </tr>\n",
       "  </tbody>\n",
       "</table>\n",
       "</div>"
      ],
      "text/plain": [
       "    pim_id  excursion_size\n",
       "0   129964       36.268056\n",
       "1  1277225       28.698475\n",
       "2  1330625       48.761954"
      ]
     },
     "execution_count": 83,
     "metadata": {},
     "output_type": "execute_result"
    }
   ],
   "source": [
    "excursion.head(3)"
   ]
  },
  {
   "cell_type": "code",
   "execution_count": 84,
   "metadata": {},
   "outputs": [
    {
     "data": {
      "text/plain": [
       "46.1"
      ]
     },
     "execution_count": 84,
     "metadata": {},
     "output_type": "execute_result"
    }
   ],
   "source": [
    "excursion.excursion_size.median()"
   ]
  },
  {
   "cell_type": "code",
   "execution_count": 85,
   "metadata": {},
   "outputs": [
    {
     "data": {
      "text/plain": [
       "15.762763328135936"
      ]
     },
     "execution_count": 85,
     "metadata": {},
     "output_type": "execute_result"
    }
   ],
   "source": [
    "excursion.excursion_size.std()"
   ]
  },
  {
   "cell_type": "code",
   "execution_count": 86,
   "metadata": {},
   "outputs": [
    {
     "data": {
      "text/plain": [
       "0.0"
      ]
     },
     "execution_count": 86,
     "metadata": {},
     "output_type": "execute_result"
    }
   ],
   "source": [
    "excursion.excursion_size.min()"
   ]
  },
  {
   "cell_type": "code",
   "execution_count": 87,
   "metadata": {},
   "outputs": [
    {
     "data": {
      "text/plain": [
       "182.0"
      ]
     },
     "execution_count": 87,
     "metadata": {},
     "output_type": "execute_result"
    }
   ],
   "source": [
    "excursion.excursion_size.max()"
   ]
  },
  {
   "cell_type": "code",
   "execution_count": 88,
   "metadata": {},
   "outputs": [
    {
     "data": {
      "image/png": "[encoded data removed]",
      "text/plain": [
       "<Figure size 1080x720 with 1 Axes>"
      ]
     },
     "metadata": {
      "needs_background": "light"
     },
     "output_type": "display_data"
    }
   ],
   "source": [
    "Days=excursion['excursion_size']\n",
    "plt.figure(figsize=(15, 10)) \n",
    "plt.hist(Days, range=(np.min(Days),np.max(Days)),\n",
    "         linewidth=2,color=\"#3F5D7D\",bins=150, edgecolor='#1d7874')\n",
    "plt.axvline(Days.mean(), color='k', linestyle='dashed', linewidth=1)\n",
    "_, max_ = plt.ylim()\n",
    "plt.text(Days.mean() + Days.mean()/10, \n",
    "         max_ - max_/10, \n",
    "         'Mean: {:.2f}'.format(Days.mean()))\n",
    "ax = plt.subplot(111)  \n",
    "ax.spines[\"top\"].set_visible(False)  \n",
    "ax.spines[\"right\"].set_visible(False)  \n",
    "\n",
    "ax.get_xaxis().tick_bottom()  \n",
    "ax.get_yaxis().tick_left()\n",
    "plt.xticks(fontsize=14)  \n",
    "plt.yticks(fontsize=14)  \n",
    "\n",
    "plt.title('Average excursion_size', fontsize=16)\n",
    "plt.xlabel('excursion_size', fontsize=16)\n",
    "plt.ylabel('Frequency of excursion_size');"
   ]
  },
  {
   "cell_type": "markdown",
   "metadata": {},
   "source": [
    "### Distribution of excursion_size by time period"
   ]
  },
  {
   "cell_type": "code",
   "execution_count": 89,
   "metadata": {},
   "outputs": [],
   "source": [
    "sql_script=\"\"\"\n",
    "  (\n",
    "  SELECT\n",
    "    pim_id,\n",
    "    'Sleep (0,6]' AS time_range,\n",
    "    AVG(excursion_size) AS excursion_size\n",
    "  FROM\n",
    "    odp_level2_feature_store.meal_events\n",
    "  WHERE\n",
    "    EXTRACT(hour\n",
    "    FROM\n",
    "      start_datetime_local)<=6\n",
    "    AND EXTRACT(hour\n",
    "    FROM\n",
    "      start_datetime_local)>0\n",
    "  GROUP BY\n",
    "    pim_id)\n",
    "UNION ALL (\n",
    "  SELECT\n",
    "    pim_id,\n",
    "    'Morning (6,12]' AS time_range,\n",
    "    AVG(excursion_size) AS excursion_size\n",
    "  FROM\n",
    "    odp_level2_feature_store.meal_events\n",
    "  WHERE\n",
    "    EXTRACT(hour\n",
    "    FROM\n",
    "      start_datetime_local)<=12\n",
    "    AND EXTRACT(hour\n",
    "    FROM\n",
    "      start_datetime_local)>6\n",
    "  GROUP BY\n",
    "    pim_id)\n",
    "UNION ALL (\n",
    "  SELECT\n",
    "    pim_id,\n",
    "    'Afternoon (12,18]' AS time_range,\n",
    "    AVG(excursion_size) AS excursion_size\n",
    "  FROM\n",
    "    odp_level2_feature_store.meal_events\n",
    "  WHERE\n",
    "    EXTRACT(hour\n",
    "    FROM\n",
    "      start_datetime_local)<=18\n",
    "    AND EXTRACT(hour\n",
    "    FROM\n",
    "      start_datetime_local)>12\n",
    "  GROUP BY\n",
    "    pim_id)\n",
    "UNION ALL (\n",
    "  SELECT\n",
    "    pim_id,\n",
    "    'Night (18,24]' AS time_range,\n",
    "    AVG(excursion_size) AS excursion_size\n",
    "  FROM\n",
    "    odp_level2_feature_store.meal_events\n",
    "  WHERE\n",
    "    (EXTRACT(hour\n",
    "      FROM\n",
    "        start_datetime_local)<=23\n",
    "      AND EXTRACT(hour\n",
    "      FROM\n",
    "        start_datetime_local)>18)\n",
    "    OR (EXTRACT(hour\n",
    "      FROM\n",
    "        start_datetime_local)=0)\n",
    "  GROUP BY\n",
    "    pim_id)\n",
    "\"\"\""
   ]
  },
  {
   "cell_type": "code",
   "execution_count": 90,
   "metadata": {},
   "outputs": [],
   "source": [
    "excursion_time=pd.read_gbq(sql_script,\\\n",
    "                             'research-01-217611', dialect='standard')"
   ]
  },
  {
   "cell_type": "code",
   "execution_count": 91,
   "metadata": {},
   "outputs": [
    {
     "data": {
      "text/html": [
       "<div>\n",
       "<style scoped>\n",
       "    .dataframe tbody tr th:only-of-type {\n",
       "        vertical-align: middle;\n",
       "    }\n",
       "\n",
       "    .dataframe tbody tr th {\n",
       "        vertical-align: top;\n",
       "    }\n",
       "\n",
       "    .dataframe thead th {\n",
       "        text-align: right;\n",
       "    }\n",
       "</style>\n",
       "<table border=\"1\" class=\"dataframe\">\n",
       "  <thead>\n",
       "    <tr style=\"text-align: right;\">\n",
       "      <th></th>\n",
       "      <th>pim_id</th>\n",
       "      <th>time_range</th>\n",
       "      <th>excursion_size</th>\n",
       "    </tr>\n",
       "  </thead>\n",
       "  <tbody>\n",
       "    <tr>\n",
       "      <th>0</th>\n",
       "      <td>99225</td>\n",
       "      <td>Night (18,24]</td>\n",
       "      <td>43.939024</td>\n",
       "    </tr>\n",
       "    <tr>\n",
       "      <th>1</th>\n",
       "      <td>1407706</td>\n",
       "      <td>Night (18,24]</td>\n",
       "      <td>34.734146</td>\n",
       "    </tr>\n",
       "    <tr>\n",
       "      <th>2</th>\n",
       "      <td>2866165</td>\n",
       "      <td>Night (18,24]</td>\n",
       "      <td>29.692308</td>\n",
       "    </tr>\n",
       "    <tr>\n",
       "      <th>3</th>\n",
       "      <td>1396444</td>\n",
       "      <td>Night (18,24]</td>\n",
       "      <td>69.208333</td>\n",
       "    </tr>\n",
       "    <tr>\n",
       "      <th>4</th>\n",
       "      <td>1362651</td>\n",
       "      <td>Night (18,24]</td>\n",
       "      <td>43.864662</td>\n",
       "    </tr>\n",
       "  </tbody>\n",
       "</table>\n",
       "</div>"
      ],
      "text/plain": [
       "    pim_id     time_range  excursion_size\n",
       "0    99225  Night (18,24]       43.939024\n",
       "1  1407706  Night (18,24]       34.734146\n",
       "2  2866165  Night (18,24]       29.692308\n",
       "3  1396444  Night (18,24]       69.208333\n",
       "4  1362651  Night (18,24]       43.864662"
      ]
     },
     "execution_count": 91,
     "metadata": {},
     "output_type": "execute_result"
    }
   ],
   "source": [
    "excursion_time.head()"
   ]
  },
  {
   "cell_type": "code",
   "execution_count": 92,
   "metadata": {},
   "outputs": [
    {
     "data": {
      "text/plain": [
       "time_range\n",
       "Afternoon (12,18]    53.264102\n",
       "Morning (6,12]       46.579328\n",
       "Night (18,24]        50.646433\n",
       "Sleep (0,6]          31.876346\n",
       "Name: excursion_size, dtype: float64"
      ]
     },
     "execution_count": 92,
     "metadata": {},
     "output_type": "execute_result"
    }
   ],
   "source": [
    "excursion_time.groupby('time_range')['excursion_size'].mean()"
   ]
  },
  {
   "cell_type": "code",
   "execution_count": 96,
   "metadata": {},
   "outputs": [
    {
     "data": {
      "text/plain": [
       "Text(0, 0.5, 'average excursion_size')"
      ]
     },
     "execution_count": 96,
     "metadata": {},
     "output_type": "execute_result"
    },
    {
     "data": {
      "image/png": "[encoded data removed]",
      "text/plain": [
       "<Figure size 1080x576 with 1 Axes>"
      ]
     },
     "metadata": {
      "needs_background": "light"
     },
     "output_type": "display_data"
    }
   ],
   "source": [
    "var = 'time_range'\n",
    "#data = pd.concat([df_train['SalePrice'], df_train[var]], axis=1)\n",
    "f, ax = plt.subplots(figsize=(15, 8))\n",
    "fig = sns.boxplot(x=var, y=\"excursion_size\", data=excursion_time,showfliers=False)\n",
    "fig.axis(ymin=0, ymax=100);\n",
    "plt.title('Boxplot of average excursion_size', fontsize=15)\n",
    "plt.xlabel('Start Time Period in One Day', fontsize=12)\n",
    "plt.ylabel('average excursion_size',fontsize=15)"
   ]
  },
  {
   "cell_type": "markdown",
   "metadata": {},
   "source": [
    "### Distribution of excursion rate by time period"
   ]
  },
  {
   "cell_type": "code",
   "execution_count": 97,
   "metadata": {},
   "outputs": [],
   "source": [
    "sql_script=\"\"\"\n",
    " (\n",
    "  SELECT\n",
    "    pim_id,\n",
    "    'Sleep (0,6]' AS time_range,\n",
    "    AVG(excursion_size/(time_to_peak+0.01)) AS excursion_rate\n",
    "  FROM\n",
    "    odp_level2_feature_store.meal_events\n",
    "  WHERE\n",
    "    EXTRACT(hour\n",
    "    FROM\n",
    "      start_datetime_local)<=6\n",
    "    AND EXTRACT(hour\n",
    "    FROM\n",
    "      start_datetime_local)>0\n",
    "  GROUP BY\n",
    "    pim_id)\n",
    "UNION ALL (\n",
    "  SELECT\n",
    "    pim_id,\n",
    "    'Morning (6,12]' AS time_range,\n",
    "    AVG(excursion_size/(time_to_peak+0.01)) AS excursion_rate\n",
    "  FROM\n",
    "    odp_level2_feature_store.meal_events\n",
    "  WHERE\n",
    "    EXTRACT(hour\n",
    "    FROM\n",
    "      start_datetime_local)<=12\n",
    "    AND EXTRACT(hour\n",
    "    FROM\n",
    "      start_datetime_local)>6\n",
    "  GROUP BY\n",
    "    pim_id)\n",
    "UNION ALL (\n",
    "  SELECT\n",
    "    pim_id,\n",
    "    'Afternoon (12,18]' AS time_range,\n",
    "    AVG(excursion_size/(time_to_peak+0.01)) AS excursion_rate\n",
    "  FROM\n",
    "    odp_level2_feature_store.meal_events\n",
    "  WHERE\n",
    "    EXTRACT(hour\n",
    "    FROM\n",
    "      start_datetime_local)<=18\n",
    "    AND EXTRACT(hour\n",
    "    FROM\n",
    "      start_datetime_local)>12\n",
    "  GROUP BY\n",
    "    pim_id)\n",
    "UNION ALL (\n",
    "  SELECT\n",
    "    pim_id,\n",
    "    'Night (18,24]' AS time_range,\n",
    "    AVG(excursion_size/(time_to_peak+0.01)) AS excursion_rate\n",
    "  FROM\n",
    "    odp_level2_feature_store.meal_events\n",
    "  WHERE\n",
    "    (EXTRACT(hour\n",
    "      FROM\n",
    "        start_datetime_local)<=23\n",
    "      AND EXTRACT(hour\n",
    "      FROM\n",
    "        start_datetime_local)>18)\n",
    "    OR (EXTRACT(hour\n",
    "      FROM\n",
    "        start_datetime_local)=0)\n",
    "  GROUP BY\n",
    "    pim_id)\n",
    "\"\"\""
   ]
  },
  {
   "cell_type": "code",
   "execution_count": 98,
   "metadata": {},
   "outputs": [],
   "source": [
    "excursion_rate=pd.read_gbq(sql_script,\\\n",
    "                             'research-01-217611', dialect='standard')"
   ]
  },
  {
   "cell_type": "code",
   "execution_count": 99,
   "metadata": {},
   "outputs": [
    {
     "data": {
      "text/plain": [
       "time_range\n",
       "Afternoon (12,18]    0.875143\n",
       "Morning (6,12]       0.949415\n",
       "Night (18,24]        0.841948\n",
       "Sleep (0,6]          0.662603\n",
       "Name: excursion_rate, dtype: float64"
      ]
     },
     "execution_count": 99,
     "metadata": {},
     "output_type": "execute_result"
    }
   ],
   "source": [
    "excursion_rate.groupby('time_range')['excursion_rate'].mean()"
   ]
  },
  {
   "cell_type": "code",
   "execution_count": 100,
   "metadata": {},
   "outputs": [
    {
     "data": {
      "text/plain": [
       "Text(0, 0.5, 'average excursion rate')"
      ]
     },
     "execution_count": 100,
     "metadata": {},
     "output_type": "execute_result"
    },
    {
     "data": {
      "image/png": "[encoded data removed]",
      "text/plain": [
       "<Figure size 1080x576 with 1 Axes>"
      ]
     },
     "metadata": {
      "needs_background": "light"
     },
     "output_type": "display_data"
    }
   ],
   "source": [
    "var = 'time_range'\n",
    "#data = pd.concat([df_train['SalePrice'], df_train[var]], axis=1)\n",
    "f, ax = plt.subplots(figsize=(15, 8))\n",
    "fig = sns.boxplot(x=var, y=\"excursion_rate\", data=excursion_rate,showfliers=False)\n",
    "fig.axis(ymin=0, ymax=2);\n",
    "plt.title('Boxplot of average excursion rate', fontsize=15)\n",
    "plt.xlabel('Start Time Period in One Day', fontsize=12)\n",
    "plt.ylabel('average excursion rate',fontsize=15)"
   ]
  },
  {
   "cell_type": "code",
   "execution_count": null,
   "metadata": {},
   "outputs": [],
   "source": []
  }
 ],
 "metadata": {
  "kernelspec": {
   "display_name": "Python 3",
   "language": "python",
   "name": "python3"
  },
  "language_info": {
   "codemirror_mode": {
    "name": "ipython",
    "version": 3
   },
   "file_extension": ".py",
   "mimetype": "text/x-python",
   "name": "python",
   "nbconvert_exporter": "python",
   "pygments_lexer": "ipython3",
   "version": "3.7.5"
  }
 },
 "nbformat": 4,
 "nbformat_minor": 2
}
