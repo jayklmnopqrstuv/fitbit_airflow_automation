{
 "cells": [
  {
   "cell_type": "markdown",
   "metadata": {},
   "source": [
    "### Meal Event Exploration\n",
    "\n",
    "* Distribution of start_to_peak, peak_to_end per meal event\n",
    "* Distribution of start_to_peak, peak_to_end per meal event by morning ((0-12]) and afternoon [13-24]\n",
    "* Distribution of peak_glucose per meal event\n",
    "* Distribution of peak_glucose by time period per meal event\n",
    "* Distribution of excursion_size per meal event\n",
    "* Distribution of excursion_size by time period per meal event\n",
    "* Distribution of excursion rate by time period per meal event"
   ]
  },
  {
   "cell_type": "markdown",
   "metadata": {},
   "source": [
    "### Load packages"
   ]
  },
  {
   "cell_type": "code",
   "execution_count": 1,
   "metadata": {},
   "outputs": [
    {
     "name": "stderr",
     "output_type": "stream",
     "text": [
      "/opt/anaconda/anaconda3/lib/python3.7/site-packages/statsmodels/tools/_testing.py:19: FutureWarning: pandas.util.testing is deprecated. Use the functions in the public API at pandas.testing instead.\n",
      "  import pandas.util.testing as tm\n"
     ]
    }
   ],
   "source": [
    "import pandas as pd\n",
    "import numpy as np\n",
    "import matplotlib.pyplot as plt\n",
    "import seaborn as sns\n",
    "#import os\n",
    "import datetime\n",
    "import calendar\n",
    "import math\n",
    "from IPython.display import display\n",
    "import matplotlib.pyplot as plt\n",
    "from matplotlib.ticker import StrMethodFormatter\n",
    "import warnings; warnings.simplefilter('ignore')\n",
    "import pydata_google_auth as pgauth\n",
    "from google.cloud import bigquery\n",
    "creds = pgauth.get_user_credentials(['https://www.googleapis.com/auth/cloud-platform'])\n",
    "\n",
    "%matplotlib inline"
   ]
  },
  {
   "cell_type": "markdown",
   "metadata": {},
   "source": [
    "### Distribution of start_to_peak, peak_to_end per patient"
   ]
  },
  {
   "cell_type": "code",
   "execution_count": 2,
   "metadata": {},
   "outputs": [],
   "source": [
    "sql_script=\"\"\"\n",
    "SELECT\n",
    "  pim_id,\n",
    "  duration as start_to_normal,\n",
    "  time_to_peak AS start_to_peak,\n",
    "  TIMESTAMP_DIFF(return_to_baseline_datetime_local,peak_datetime_local, MINUTE) AS peak_to_end\n",
    "FROM\n",
    "  odp_level2_feature_store.meal_events\n",
    "\"\"\""
   ]
  },
  {
   "cell_type": "code",
   "execution_count": 3,
   "metadata": {},
   "outputs": [],
   "source": [
    "time=pd.read_gbq(sql_script,\\\n",
    "                             'research-01-217611', dialect='standard')"
   ]
  },
  {
   "cell_type": "code",
   "execution_count": 4,
   "metadata": {},
   "outputs": [
    {
     "data": {
      "text/plain": [
       "(1999429, 4)"
      ]
     },
     "execution_count": 4,
     "metadata": {},
     "output_type": "execute_result"
    }
   ],
   "source": [
    "time.shape"
   ]
  },
  {
   "cell_type": "markdown",
   "metadata": {},
   "source": [
    "**start to normal**"
   ]
  },
  {
   "cell_type": "code",
   "execution_count": 5,
   "metadata": {},
   "outputs": [
    {
     "data": {
      "text/plain": [
       "160.0"
      ]
     },
     "execution_count": 5,
     "metadata": {},
     "output_type": "execute_result"
    }
   ],
   "source": [
    "time['start_to_normal'].median()"
   ]
  },
  {
   "cell_type": "code",
   "execution_count": 6,
   "metadata": {},
   "outputs": [
    {
     "data": {
      "text/plain": [
       "64.5708956960164"
      ]
     },
     "execution_count": 6,
     "metadata": {},
     "output_type": "execute_result"
    }
   ],
   "source": [
    "time['start_to_normal'].std()"
   ]
  },
  {
   "cell_type": "code",
   "execution_count": 7,
   "metadata": {},
   "outputs": [
    {
     "data": {
      "image/png": "[encoded data removed]",
      "text/plain": [
       "<Figure size 1080x720 with 1 Axes>"
      ]
     },
     "metadata": {
      "needs_background": "light"
     },
     "output_type": "display_data"
    }
   ],
   "source": [
    "Days=time['start_to_normal']\n",
    "plt.figure(figsize=(15, 10)) \n",
    "plt.hist(Days, range=(np.min(Days),np.max(Days)),\n",
    "         linewidth=2,color=\"#3F5D7D\",bins=150, edgecolor='#1d7874')\n",
    "plt.axvline(Days.mean(), color='k', linestyle='dashed', linewidth=1)\n",
    "_, max_ = plt.ylim()\n",
    "plt.text(Days.mean() + Days.mean()/10, \n",
    "         max_ - max_/10, \n",
    "         'Mean: {:.2f}'.format(Days.mean()))\n",
    "ax = plt.subplot(111)  \n",
    "ax.spines[\"top\"].set_visible(False)  \n",
    "ax.spines[\"right\"].set_visible(False)  \n",
    "\n",
    "ax.get_xaxis().tick_bottom()  \n",
    "ax.get_yaxis().tick_left()\n",
    "plt.xticks(fontsize=14)  \n",
    "plt.yticks(fontsize=14)  \n",
    "\n",
    "plt.title('Start to Normal Histgram', fontsize=16)\n",
    "plt.xlabel('Duration From Start to Normal(min)', fontsize=16)\n",
    "plt.ylabel('Frequency of Duration');"
   ]
  },
  {
   "cell_type": "markdown",
   "metadata": {},
   "source": [
    "**start to peak**"
   ]
  },
  {
   "cell_type": "code",
   "execution_count": 8,
   "metadata": {},
   "outputs": [
    {
     "data": {
      "text/plain": [
       "60.0"
      ]
     },
     "execution_count": 8,
     "metadata": {},
     "output_type": "execute_result"
    }
   ],
   "source": [
    "time['start_to_peak'].median()"
   ]
  },
  {
   "cell_type": "code",
   "execution_count": 9,
   "metadata": {},
   "outputs": [
    {
     "data": {
      "text/plain": [
       "56.28527005403798"
      ]
     },
     "execution_count": 9,
     "metadata": {},
     "output_type": "execute_result"
    }
   ],
   "source": [
    "time['start_to_peak'].std()"
   ]
  },
  {
   "cell_type": "code",
   "execution_count": 10,
   "metadata": {},
   "outputs": [
    {
     "data": {
      "image/png": "[encoded data removed]",
      "text/plain": [
       "<Figure size 1080x720 with 1 Axes>"
      ]
     },
     "metadata": {
      "needs_background": "light"
     },
     "output_type": "display_data"
    }
   ],
   "source": [
    "Days=time['start_to_peak']\n",
    "plt.figure(figsize=(15, 10)) \n",
    "plt.hist(Days, range=(np.min(Days),np.max(Days)),\n",
    "         linewidth=2,color=\"#3F5D7D\",bins=150, edgecolor='#1d7874')\n",
    "plt.axvline(Days.mean(), color='k', linestyle='dashed', linewidth=1)\n",
    "_, max_ = plt.ylim()\n",
    "plt.text(Days.mean() + Days.mean()/10, \n",
    "         max_ - max_/10, \n",
    "         'Mean: {:.2f}'.format(Days.mean()))\n",
    "ax = plt.subplot(111)  \n",
    "ax.spines[\"top\"].set_visible(False)  \n",
    "ax.spines[\"right\"].set_visible(False)  \n",
    "\n",
    "ax.get_xaxis().tick_bottom()  \n",
    "ax.get_yaxis().tick_left()\n",
    "plt.xticks(fontsize=14)  \n",
    "plt.yticks(fontsize=14)  \n",
    "\n",
    "plt.title('Time to Peak Histgram', fontsize=16)\n",
    "plt.xlabel('Time to Peak(min)', fontsize=16)\n",
    "plt.ylabel('Frequency of Time to Peak');"
   ]
  },
  {
   "cell_type": "markdown",
   "metadata": {},
   "source": [
    "**peak to end**"
   ]
  },
  {
   "cell_type": "code",
   "execution_count": 11,
   "metadata": {},
   "outputs": [
    {
     "data": {
      "text/plain": [
       "80.0"
      ]
     },
     "execution_count": 11,
     "metadata": {},
     "output_type": "execute_result"
    }
   ],
   "source": [
    "time['peak_to_end'].median()"
   ]
  },
  {
   "cell_type": "code",
   "execution_count": 12,
   "metadata": {},
   "outputs": [
    {
     "data": {
      "text/plain": [
       "59.89914757636364"
      ]
     },
     "execution_count": 12,
     "metadata": {},
     "output_type": "execute_result"
    }
   ],
   "source": [
    "time['peak_to_end'].std()"
   ]
  },
  {
   "cell_type": "code",
   "execution_count": 13,
   "metadata": {},
   "outputs": [
    {
     "data": {
      "image/png": "[encoded data removed]",
      "text/plain": [
       "<Figure size 1080x720 with 1 Axes>"
      ]
     },
     "metadata": {
      "needs_background": "light"
     },
     "output_type": "display_data"
    }
   ],
   "source": [
    "\n",
    "Days=time['peak_to_end']\n",
    "plt.figure(figsize=(15, 10)) \n",
    "plt.hist(Days, range=(np.min(Days),np.max(Days)),\n",
    "         linewidth=2,color=\"#3F5D7D\",bins=150, edgecolor='#1d7874')\n",
    "plt.axvline(Days.mean(), color='k', linestyle='dashed', linewidth=1)\n",
    "_, max_ = plt.ylim()\n",
    "plt.text(Days.mean() + Days.mean()/10, \n",
    "         max_ - max_/10, \n",
    "         'Mean: {:.2f}'.format(Days.mean()))\n",
    "ax = plt.subplot(111)  \n",
    "ax.spines[\"top\"].set_visible(False)  \n",
    "ax.spines[\"right\"].set_visible(False)  \n",
    "\n",
    "ax.get_xaxis().tick_bottom()  \n",
    "ax.get_yaxis().tick_left()\n",
    "plt.xticks(fontsize=14)  \n",
    "plt.yticks(fontsize=14)  \n",
    "\n",
    "plt.title('Peak to Normal Histgram', fontsize=16)\n",
    "plt.xlabel('Peak to Normal(min)', fontsize=16)\n",
    "plt.ylabel('Frequency of Peak to Normal');"
   ]
  },
  {
   "cell_type": "markdown",
   "metadata": {},
   "source": [
    "### Distribution of start_to_peak, peak_to_end per patient by midnight,morning,afternoon and night"
   ]
  },
  {
   "cell_type": "code",
   "execution_count": 14,
   "metadata": {},
   "outputs": [],
   "source": [
    "sql_script=\"\"\"\n",
    "  (\n",
    "  SELECT\n",
    "    pim_id,\n",
    "    'Sleep (0,6]' AS time_range,\n",
    "    time_to_peak AS start_to_peak,\n",
    "    TIMESTAMP_DIFF(return_to_baseline_datetime_local,peak_datetime_local, MINUTE) AS peak_to_end\n",
    "  FROM\n",
    "    odp_level2_feature_store.meal_events\n",
    "  WHERE\n",
    "    EXTRACT(hour\n",
    "    FROM\n",
    "      start_datetime_local)<=6\n",
    "    AND EXTRACT(hour\n",
    "    FROM\n",
    "      start_datetime_local)>0)\n",
    "UNION ALL (\n",
    "  SELECT\n",
    "    pim_id,\n",
    "    'Morning (6,12]' AS time_range,\n",
    "    time_to_peak AS start_to_peak,\n",
    "    TIMESTAMP_DIFF(return_to_baseline_datetime_local,peak_datetime_local, MINUTE) AS peak_to_end\n",
    "  FROM\n",
    "    odp_level2_feature_store.meal_events\n",
    "  WHERE\n",
    "    EXTRACT(hour\n",
    "    FROM\n",
    "      start_datetime_local)<=12\n",
    "    AND EXTRACT(hour\n",
    "    FROM\n",
    "      start_datetime_local)>6)\n",
    "UNION ALL (\n",
    "  SELECT\n",
    "    pim_id,\n",
    "    'Afternoon (12,18]' AS time_range,\n",
    "    time_to_peak AS start_to_peak,\n",
    "    TIMESTAMP_DIFF(return_to_baseline_datetime_local,peak_datetime_local, MINUTE) AS peak_to_end\n",
    "  FROM\n",
    "    odp_level2_feature_store.meal_events\n",
    "  WHERE\n",
    "    EXTRACT(hour\n",
    "    FROM\n",
    "      start_datetime_local)<=18\n",
    "    AND EXTRACT(hour\n",
    "    FROM\n",
    "      start_datetime_local)>12)\n",
    "UNION ALL (\n",
    "  SELECT\n",
    "    pim_id,\n",
    "    'Night (18,24]' AS time_range,\n",
    "    time_to_peak AS start_to_peak,\n",
    "    TIMESTAMP_DIFF(return_to_baseline_datetime_local,peak_datetime_local, MINUTE) AS peak_to_end\n",
    "  FROM\n",
    "    odp_level2_feature_store.meal_events\n",
    "  WHERE\n",
    "    (EXTRACT(hour\n",
    "      FROM\n",
    "        start_datetime_local)<=23\n",
    "      AND EXTRACT(hour\n",
    "      FROM\n",
    "        start_datetime_local)>18)\n",
    "    OR (EXTRACT(hour\n",
    "      FROM\n",
    "        start_datetime_local)=0)\n",
    ")\n",
    "\"\"\""
   ]
  },
  {
   "cell_type": "code",
   "execution_count": 15,
   "metadata": {},
   "outputs": [],
   "source": [
    "period=pd.read_gbq(sql_script,\\\n",
    "                             'research-01-217611', dialect='standard')"
   ]
  },
  {
   "cell_type": "code",
   "execution_count": 16,
   "metadata": {},
   "outputs": [
    {
     "data": {
      "text/plain": [
       "Morning (6,12]       668844\n",
       "Afternoon (12,18]    661053\n",
       "Night (18,24]        365882\n",
       "Sleep (0,6]          303650\n",
       "Name: time_range, dtype: int64"
      ]
     },
     "execution_count": 16,
     "metadata": {},
     "output_type": "execute_result"
    }
   ],
   "source": [
    "period.time_range.value_counts()"
   ]
  },
  {
   "cell_type": "code",
   "execution_count": 18,
   "metadata": {},
   "outputs": [
    {
     "data": {
      "text/plain": [
       "Text(0, 0.5, 'Time To Peak (min)')"
      ]
     },
     "execution_count": 18,
     "metadata": {},
     "output_type": "execute_result"
    },
    {
     "data": {
      "image/png": "[encoded data removed]",
      "text/plain": [
       "<Figure size 1080x576 with 1 Axes>"
      ]
     },
     "metadata": {
      "needs_background": "light"
     },
     "output_type": "display_data"
    }
   ],
   "source": [
    "var = 'time_range'\n",
    "#data = pd.concat([df_train['SalePrice'], df_train[var]], axis=1)\n",
    "f, ax = plt.subplots(figsize=(15, 8))\n",
    "fig = sns.boxplot(x=var, y=\"start_to_peak\", data=period,showfliers=False)\n",
    "fig.axis(ymin=0, ymax=250);\n",
    "plt.title('Boxplot of time to peak', fontsize=15)\n",
    "plt.xlabel('Start Time Period in One Day', fontsize=12)\n",
    "plt.ylabel('Time To Peak (min)',fontsize=15)"
   ]
  },
  {
   "cell_type": "code",
   "execution_count": 19,
   "metadata": {},
   "outputs": [
    {
     "data": {
      "text/plain": [
       "time_range\n",
       "Afternoon (12,18]    81.078733\n",
       "Morning (6,12]       65.128146\n",
       "Night (18,24]        77.597914\n",
       "Sleep (0,6]          74.698288\n",
       "Name: start_to_peak, dtype: float64"
      ]
     },
     "execution_count": 19,
     "metadata": {},
     "output_type": "execute_result"
    }
   ],
   "source": [
    "period.groupby('time_range')['start_to_peak'].mean()"
   ]
  },
  {
   "cell_type": "code",
   "execution_count": 20,
   "metadata": {},
   "outputs": [
    {
     "data": {
      "text/plain": [
       "time_range\n",
       "Afternoon (12,18]    65.0\n",
       "Morning (6,12]       50.0\n",
       "Night (18,24]        65.0\n",
       "Sleep (0,6]          60.0\n",
       "Name: start_to_peak, dtype: float64"
      ]
     },
     "execution_count": 20,
     "metadata": {},
     "output_type": "execute_result"
    }
   ],
   "source": [
    "period.groupby('time_range')['start_to_peak'].median()"
   ]
  },
  {
   "cell_type": "code",
   "execution_count": 22,
   "metadata": {},
   "outputs": [
    {
     "data": {
      "text/plain": [
       "Text(0, 0.5, 'Peak to Normal')"
      ]
     },
     "execution_count": 22,
     "metadata": {},
     "output_type": "execute_result"
    },
    {
     "data": {
      "image/png": "[encoded data removed]",
      "text/plain": [
       "<Figure size 1080x576 with 1 Axes>"
      ]
     },
     "metadata": {
      "needs_background": "light"
     },
     "output_type": "display_data"
    }
   ],
   "source": [
    "var = 'time_range'\n",
    "#data = pd.concat([df_train['SalePrice'], df_train[var]], axis=1)\n",
    "f, ax = plt.subplots(figsize=(15, 8))\n",
    "fig = sns.boxplot(x=var, y=\"peak_to_end\", data=period,showfliers=False)\n",
    "fig.axis(ymin=0, ymax=300);\n",
    "plt.title('Boxplot of peak to normal', fontsize=15)\n",
    "plt.xlabel('Start Time Period in One Day', fontsize=12)\n",
    "plt.ylabel('Peak to Normal',fontsize=15)"
   ]
  },
  {
   "cell_type": "code",
   "execution_count": 23,
   "metadata": {},
   "outputs": [
    {
     "data": {
      "text/plain": [
       "time_range\n",
       "Afternoon (12,18]    89.024314\n",
       "Morning (6,12]       98.710320\n",
       "Night (18,24]        74.081316\n",
       "Sleep (0,6]          89.058768\n",
       "Name: peak_to_end, dtype: float64"
      ]
     },
     "execution_count": 23,
     "metadata": {},
     "output_type": "execute_result"
    }
   ],
   "source": [
    "period.groupby('time_range')['peak_to_end'].mean()"
   ]
  },
  {
   "cell_type": "code",
   "execution_count": 24,
   "metadata": {},
   "outputs": [
    {
     "data": {
      "text/plain": [
       "time_range\n",
       "Afternoon (12,18]    80\n",
       "Morning (6,12]       90\n",
       "Night (18,24]        65\n",
       "Sleep (0,6]          80\n",
       "Name: peak_to_end, dtype: int64"
      ]
     },
     "execution_count": 24,
     "metadata": {},
     "output_type": "execute_result"
    }
   ],
   "source": [
    "period.groupby('time_range')['peak_to_end'].median()"
   ]
  },
  {
   "cell_type": "markdown",
   "metadata": {},
   "source": [
    "### Distribution of peak_glucose"
   ]
  },
  {
   "cell_type": "code",
   "execution_count": 25,
   "metadata": {},
   "outputs": [],
   "source": [
    "sql_script=\"\"\"\n",
    "SELECT\n",
    "    pim_id,\n",
    "    peak_glucose\n",
    "    from odp_level2_feature_store.meal_events\n",
    "\"\"\""
   ]
  },
  {
   "cell_type": "code",
   "execution_count": 26,
   "metadata": {},
   "outputs": [],
   "source": [
    "peak=pd.read_gbq(sql_script,\\\n",
    "                             'research-01-217611', dialect='standard')"
   ]
  },
  {
   "cell_type": "code",
   "execution_count": 27,
   "metadata": {},
   "outputs": [
    {
     "data": {
      "text/plain": [
       "190.0"
      ]
     },
     "execution_count": 27,
     "metadata": {},
     "output_type": "execute_result"
    }
   ],
   "source": [
    "peak.peak_glucose.median()"
   ]
  },
  {
   "cell_type": "code",
   "execution_count": 28,
   "metadata": {},
   "outputs": [
    {
     "data": {
      "text/plain": [
       "55.55038442485196"
      ]
     },
     "execution_count": 28,
     "metadata": {},
     "output_type": "execute_result"
    }
   ],
   "source": [
    "peak.peak_glucose.std()"
   ]
  },
  {
   "cell_type": "code",
   "execution_count": 29,
   "metadata": {},
   "outputs": [
    {
     "data": {
      "text/plain": [
       "41.0"
      ]
     },
     "execution_count": 29,
     "metadata": {},
     "output_type": "execute_result"
    }
   ],
   "source": [
    "peak.peak_glucose.min()"
   ]
  },
  {
   "cell_type": "code",
   "execution_count": 30,
   "metadata": {},
   "outputs": [
    {
     "data": {
      "text/plain": [
       "401.0"
      ]
     },
     "execution_count": 30,
     "metadata": {},
     "output_type": "execute_result"
    }
   ],
   "source": [
    "peak.peak_glucose.max()"
   ]
  },
  {
   "cell_type": "code",
   "execution_count": 31,
   "metadata": {},
   "outputs": [
    {
     "data": {
      "image/png": "[encoded data removed]",
      "text/plain": [
       "<Figure size 1080x720 with 1 Axes>"
      ]
     },
     "metadata": {
      "needs_background": "light"
     },
     "output_type": "display_data"
    }
   ],
   "source": [
    "Days=peak['peak_glucose']\n",
    "plt.figure(figsize=(15, 10)) \n",
    "plt.hist(Days, range=(np.min(Days),np.max(Days)),\n",
    "         linewidth=2,color=\"#3F5D7D\",bins=150, edgecolor='#1d7874')\n",
    "plt.axvline(Days.mean(), color='k', linestyle='dashed', linewidth=1)\n",
    "_, max_ = plt.ylim()\n",
    "plt.text(Days.mean() + Days.mean()/10, \n",
    "         max_ - max_/10, \n",
    "         'Mean: {:.2f}'.format(Days.mean()))\n",
    "ax = plt.subplot(111)  \n",
    "ax.spines[\"top\"].set_visible(False)  \n",
    "ax.spines[\"right\"].set_visible(False)  \n",
    "\n",
    "ax.get_xaxis().tick_bottom()  \n",
    "ax.get_yaxis().tick_left()\n",
    "plt.xticks(fontsize=14)  \n",
    "plt.yticks(fontsize=14)  \n",
    "\n",
    "plt.title('Average Peak Glucose Histgram', fontsize=16)\n",
    "plt.xlabel('Peak Glucose', fontsize=16)\n",
    "plt.ylabel('Frequency of Peak Glucose');"
   ]
  },
  {
   "cell_type": "code",
   "execution_count": 32,
   "metadata": {},
   "outputs": [
    {
     "data": {
      "text/plain": [
       "(1999429, 2)"
      ]
     },
     "execution_count": 32,
     "metadata": {},
     "output_type": "execute_result"
    }
   ],
   "source": [
    "peak.shape"
   ]
  },
  {
   "cell_type": "markdown",
   "metadata": {},
   "source": [
    "### Distribution of peak_glucose by time period"
   ]
  },
  {
   "cell_type": "code",
   "execution_count": 33,
   "metadata": {},
   "outputs": [],
   "source": [
    "sql_script=\"\"\"\n",
    "  (\n",
    "  SELECT\n",
    "    pim_id,\n",
    "    'Sleep (0,6]' AS time_range,\n",
    "    peak_glucose\n",
    "  FROM\n",
    "    odp_level2_feature_store.meal_events\n",
    "  WHERE\n",
    "    EXTRACT(hour\n",
    "    FROM\n",
    "      start_datetime_local)<=6\n",
    "    AND EXTRACT(hour\n",
    "    FROM\n",
    "      start_datetime_local)>0\n",
    ")\n",
    "UNION ALL (\n",
    "  SELECT\n",
    "    pim_id,\n",
    "    'Morning (6,12]' AS time_range,\n",
    "    peak_glucose\n",
    "  FROM\n",
    "    odp_level2_feature_store.meal_events\n",
    "  WHERE\n",
    "    EXTRACT(hour\n",
    "    FROM\n",
    "      start_datetime_local)<=12\n",
    "    AND EXTRACT(hour\n",
    "    FROM\n",
    "      start_datetime_local)>6)\n",
    "UNION ALL (\n",
    "  SELECT\n",
    "    pim_id,\n",
    "    'Afternoon (12,18]' AS time_range,\n",
    "    peak_glucose\n",
    "  FROM\n",
    "    odp_level2_feature_store.meal_events\n",
    "  WHERE\n",
    "    EXTRACT(hour\n",
    "    FROM\n",
    "      start_datetime_local)<=18\n",
    "    AND EXTRACT(hour\n",
    "    FROM\n",
    "      start_datetime_local)>12\n",
    ")\n",
    "UNION ALL (\n",
    "  SELECT\n",
    "    pim_id,\n",
    "    'Night (18,24]' AS time_range,\n",
    "    peak_glucose\n",
    "  FROM\n",
    "    odp_level2_feature_store.meal_events\n",
    "  WHERE\n",
    "    (EXTRACT(hour\n",
    "      FROM\n",
    "        start_datetime_local)<=23\n",
    "      AND EXTRACT(hour\n",
    "      FROM\n",
    "        start_datetime_local)>18)\n",
    "    OR (EXTRACT(hour\n",
    "      FROM\n",
    "        start_datetime_local)=0))\n",
    "\"\"\""
   ]
  },
  {
   "cell_type": "code",
   "execution_count": 34,
   "metadata": {},
   "outputs": [],
   "source": [
    "peak_time=pd.read_gbq(sql_script,\\\n",
    "                             'research-01-217611', dialect='standard')"
   ]
  },
  {
   "cell_type": "code",
   "execution_count": 35,
   "metadata": {},
   "outputs": [
    {
     "data": {
      "text/plain": [
       "time_range\n",
       "Afternoon (12,18]    199.386407\n",
       "Morning (6,12]       200.919184\n",
       "Night (18,24]        207.383286\n",
       "Sleep (0,6]          191.939914\n",
       "Name: peak_glucose, dtype: float64"
      ]
     },
     "execution_count": 35,
     "metadata": {},
     "output_type": "execute_result"
    }
   ],
   "source": [
    "peak_time.groupby('time_range')['peak_glucose'].mean()"
   ]
  },
  {
   "cell_type": "code",
   "execution_count": 36,
   "metadata": {},
   "outputs": [
    {
     "data": {
      "text/plain": [
       "time_range\n",
       "Afternoon (12,18]    189.0\n",
       "Morning (6,12]       192.0\n",
       "Night (18,24]        197.0\n",
       "Sleep (0,6]          182.0\n",
       "Name: peak_glucose, dtype: float64"
      ]
     },
     "execution_count": 36,
     "metadata": {},
     "output_type": "execute_result"
    }
   ],
   "source": [
    "peak_time.groupby('time_range')['peak_glucose'].median()"
   ]
  },
  {
   "cell_type": "code",
   "execution_count": 37,
   "metadata": {},
   "outputs": [
    {
     "data": {
      "text/plain": [
       "Text(0, 0.5, 'average peak glucose')"
      ]
     },
     "execution_count": 37,
     "metadata": {},
     "output_type": "execute_result"
    },
    {
     "data": {
      "image/png": "[encoded data removed]",
      "text/plain": [
       "<Figure size 1080x576 with 1 Axes>"
      ]
     },
     "metadata": {
      "needs_background": "light"
     },
     "output_type": "display_data"
    }
   ],
   "source": [
    "var = 'time_range'\n",
    "#data = pd.concat([df_train['SalePrice'], df_train[var]], axis=1)\n",
    "f, ax = plt.subplots(figsize=(15, 8))\n",
    "fig = sns.boxplot(x=var, y=\"peak_glucose\", data=peak_time,showfliers=False)\n",
    "fig.axis(ymin=40, ymax=400);\n",
    "plt.title('Boxplot of average peak glucose', fontsize=15)\n",
    "plt.xlabel('Start Time Period in One Day', fontsize=12)\n",
    "plt.ylabel('average peak glucose',fontsize=15)"
   ]
  },
  {
   "cell_type": "markdown",
   "metadata": {},
   "source": [
    "### Distribution of excursion_size"
   ]
  },
  {
   "cell_type": "code",
   "execution_count": 38,
   "metadata": {},
   "outputs": [],
   "source": [
    "sql_script=\"\"\"\n",
    "SELECT\n",
    "    pim_id,\n",
    "    excursion_size\n",
    "    from odp_level2_feature_store.meal_events\n",
    "\"\"\""
   ]
  },
  {
   "cell_type": "code",
   "execution_count": 39,
   "metadata": {},
   "outputs": [],
   "source": [
    "excursion=pd.read_gbq(sql_script,\\\n",
    "                             'research-01-217611', dialect='standard')"
   ]
  },
  {
   "cell_type": "code",
   "execution_count": 40,
   "metadata": {},
   "outputs": [
    {
     "data": {
      "text/plain": [
       "40.0"
      ]
     },
     "execution_count": 40,
     "metadata": {},
     "output_type": "execute_result"
    }
   ],
   "source": [
    "excursion.excursion_size.median()"
   ]
  },
  {
   "cell_type": "code",
   "execution_count": 41,
   "metadata": {},
   "outputs": [
    {
     "data": {
      "text/plain": [
       "35.61938149286192"
      ]
     },
     "execution_count": 41,
     "metadata": {},
     "output_type": "execute_result"
    }
   ],
   "source": [
    "excursion.excursion_size.std()"
   ]
  },
  {
   "cell_type": "code",
   "execution_count": 42,
   "metadata": {},
   "outputs": [
    {
     "data": {
      "text/plain": [
       "-0.1"
      ]
     },
     "execution_count": 42,
     "metadata": {},
     "output_type": "execute_result"
    }
   ],
   "source": [
    "excursion.excursion_size.min()"
   ]
  },
  {
   "cell_type": "code",
   "execution_count": 43,
   "metadata": {},
   "outputs": [
    {
     "data": {
      "text/plain": [
       "319.5"
      ]
     },
     "execution_count": 43,
     "metadata": {},
     "output_type": "execute_result"
    }
   ],
   "source": [
    "excursion.excursion_size.max()"
   ]
  },
  {
   "cell_type": "code",
   "execution_count": 44,
   "metadata": {},
   "outputs": [
    {
     "data": {
      "image/png": "[encoded data removed]",
      "text/plain": [
       "<Figure size 1080x720 with 1 Axes>"
      ]
     },
     "metadata": {
      "needs_background": "light"
     },
     "output_type": "display_data"
    }
   ],
   "source": [
    "Days=excursion['excursion_size']\n",
    "plt.figure(figsize=(15, 10)) \n",
    "plt.hist(Days, range=(np.min(Days),np.max(Days)),\n",
    "         linewidth=2,color=\"#3F5D7D\",bins=150, edgecolor='#1d7874')\n",
    "plt.axvline(Days.mean(), color='k', linestyle='dashed', linewidth=1)\n",
    "_, max_ = plt.ylim()\n",
    "plt.text(Days.mean() + Days.mean()/10, \n",
    "         max_ - max_/10, \n",
    "         'Mean: {:.2f}'.format(Days.mean()))\n",
    "ax = plt.subplot(111)  \n",
    "ax.spines[\"top\"].set_visible(False)  \n",
    "ax.spines[\"right\"].set_visible(False)  \n",
    "\n",
    "ax.get_xaxis().tick_bottom()  \n",
    "ax.get_yaxis().tick_left()\n",
    "plt.xticks(fontsize=14)  \n",
    "plt.yticks(fontsize=14)  \n",
    "\n",
    "plt.title('Average excursion_size', fontsize=16)\n",
    "plt.xlabel('excursion_size', fontsize=16)\n",
    "plt.ylabel('Frequency of excursion_size');"
   ]
  },
  {
   "cell_type": "markdown",
   "metadata": {},
   "source": [
    "### Distribution of excursion_size by time period"
   ]
  },
  {
   "cell_type": "code",
   "execution_count": 45,
   "metadata": {},
   "outputs": [],
   "source": [
    "sql_script=\"\"\"\n",
    "  (\n",
    "  SELECT\n",
    "    pim_id,\n",
    "    'Sleep (0,6]' AS time_range,\n",
    "    excursion_size\n",
    "  FROM\n",
    "    odp_level2_feature_store.meal_events\n",
    "  WHERE\n",
    "    EXTRACT(hour\n",
    "    FROM\n",
    "      start_datetime_local)<=6\n",
    "    AND EXTRACT(hour\n",
    "    FROM\n",
    "      start_datetime_local)>0)\n",
    "UNION ALL (\n",
    "  SELECT\n",
    "    pim_id,\n",
    "    'Morning (6,12]' AS time_range,\n",
    "    excursion_size\n",
    "  FROM\n",
    "    odp_level2_feature_store.meal_events\n",
    "  WHERE\n",
    "    EXTRACT(hour\n",
    "    FROM\n",
    "      start_datetime_local)<=12\n",
    "    AND EXTRACT(hour\n",
    "    FROM\n",
    "      start_datetime_local)>6\n",
    ")\n",
    "UNION ALL (\n",
    "  SELECT\n",
    "    pim_id,\n",
    "    'Afternoon (12,18]' AS time_range,\n",
    "    excursion_size\n",
    "  FROM\n",
    "    odp_level2_feature_store.meal_events\n",
    "  WHERE\n",
    "    EXTRACT(hour\n",
    "    FROM\n",
    "      start_datetime_local)<=18\n",
    "    AND EXTRACT(hour\n",
    "    FROM\n",
    "      start_datetime_local)>12\n",
    ")\n",
    "UNION ALL (\n",
    "  SELECT\n",
    "    pim_id,\n",
    "    'Night (18,24]' AS time_range,\n",
    "    excursion_size\n",
    "  FROM\n",
    "    odp_level2_feature_store.meal_events\n",
    "  WHERE\n",
    "    (EXTRACT(hour\n",
    "      FROM\n",
    "        start_datetime_local)<=23\n",
    "      AND EXTRACT(hour\n",
    "      FROM\n",
    "        start_datetime_local)>18)\n",
    "    OR (EXTRACT(hour\n",
    "      FROM\n",
    "        start_datetime_local)=0)\n",
    ")\n",
    "\"\"\""
   ]
  },
  {
   "cell_type": "code",
   "execution_count": 46,
   "metadata": {},
   "outputs": [],
   "source": [
    "excursion_time=pd.read_gbq(sql_script,\\\n",
    "                             'research-01-217611', dialect='standard')"
   ]
  },
  {
   "cell_type": "code",
   "execution_count": 47,
   "metadata": {},
   "outputs": [
    {
     "data": {
      "text/html": [
       "<div>\n",
       "<style scoped>\n",
       "    .dataframe tbody tr th:only-of-type {\n",
       "        vertical-align: middle;\n",
       "    }\n",
       "\n",
       "    .dataframe tbody tr th {\n",
       "        vertical-align: top;\n",
       "    }\n",
       "\n",
       "    .dataframe thead th {\n",
       "        text-align: right;\n",
       "    }\n",
       "</style>\n",
       "<table border=\"1\" class=\"dataframe\">\n",
       "  <thead>\n",
       "    <tr style=\"text-align: right;\">\n",
       "      <th></th>\n",
       "      <th>pim_id</th>\n",
       "      <th>time_range</th>\n",
       "      <th>excursion_size</th>\n",
       "    </tr>\n",
       "  </thead>\n",
       "  <tbody>\n",
       "    <tr>\n",
       "      <th>0</th>\n",
       "      <td>1351369</td>\n",
       "      <td>Night (18,24]</td>\n",
       "      <td>81.0</td>\n",
       "    </tr>\n",
       "    <tr>\n",
       "      <th>1</th>\n",
       "      <td>1260928</td>\n",
       "      <td>Night (18,24]</td>\n",
       "      <td>89.0</td>\n",
       "    </tr>\n",
       "    <tr>\n",
       "      <th>2</th>\n",
       "      <td>76388</td>\n",
       "      <td>Night (18,24]</td>\n",
       "      <td>125.0</td>\n",
       "    </tr>\n",
       "    <tr>\n",
       "      <th>3</th>\n",
       "      <td>1261733</td>\n",
       "      <td>Night (18,24]</td>\n",
       "      <td>88.0</td>\n",
       "    </tr>\n",
       "    <tr>\n",
       "      <th>4</th>\n",
       "      <td>1277491</td>\n",
       "      <td>Night (18,24]</td>\n",
       "      <td>160.0</td>\n",
       "    </tr>\n",
       "  </tbody>\n",
       "</table>\n",
       "</div>"
      ],
      "text/plain": [
       "    pim_id     time_range  excursion_size\n",
       "0  1351369  Night (18,24]            81.0\n",
       "1  1260928  Night (18,24]            89.0\n",
       "2    76388  Night (18,24]           125.0\n",
       "3  1261733  Night (18,24]            88.0\n",
       "4  1277491  Night (18,24]           160.0"
      ]
     },
     "execution_count": 47,
     "metadata": {},
     "output_type": "execute_result"
    }
   ],
   "source": [
    "excursion_time.head()"
   ]
  },
  {
   "cell_type": "code",
   "execution_count": 48,
   "metadata": {},
   "outputs": [
    {
     "data": {
      "text/plain": [
       "time_range\n",
       "Afternoon (12,18]    52.754467\n",
       "Morning (6,12]       46.322526\n",
       "Night (18,24]        50.838149\n",
       "Sleep (0,6]          31.840479\n",
       "Name: excursion_size, dtype: float64"
      ]
     },
     "execution_count": 48,
     "metadata": {},
     "output_type": "execute_result"
    }
   ],
   "source": [
    "excursion_time.groupby('time_range')['excursion_size'].mean()"
   ]
  },
  {
   "cell_type": "code",
   "execution_count": 49,
   "metadata": {},
   "outputs": [
    {
     "data": {
      "text/plain": [
       "time_range\n",
       "Afternoon (12,18]    46.0\n",
       "Morning (6,12]       40.0\n",
       "Night (18,24]        43.0\n",
       "Sleep (0,6]          24.0\n",
       "Name: excursion_size, dtype: float64"
      ]
     },
     "execution_count": 49,
     "metadata": {},
     "output_type": "execute_result"
    }
   ],
   "source": [
    "excursion_time.groupby('time_range')['excursion_size'].median()\n"
   ]
  },
  {
   "cell_type": "code",
   "execution_count": 52,
   "metadata": {},
   "outputs": [
    {
     "data": {
      "text/plain": [
       "Text(0, 0.5, 'average excursion_size')"
      ]
     },
     "execution_count": 52,
     "metadata": {},
     "output_type": "execute_result"
    },
    {
     "data": {
      "image/png": "[encoded data removed]",
      "text/plain": [
       "<Figure size 1080x576 with 1 Axes>"
      ]
     },
     "metadata": {
      "needs_background": "light"
     },
     "output_type": "display_data"
    }
   ],
   "source": [
    "var = 'time_range'\n",
    "#data = pd.concat([df_train['SalePrice'], df_train[var]], axis=1)\n",
    "f, ax = plt.subplots(figsize=(15, 8))\n",
    "fig = sns.boxplot(x=var, y=\"excursion_size\", data=excursion_time,showfliers=False)\n",
    "fig.axis(ymin=0, ymax=165);\n",
    "plt.title('Boxplot of average excursion_size', fontsize=15)\n",
    "plt.xlabel('Start Time Period in One Day', fontsize=12)\n",
    "plt.ylabel('average excursion_size',fontsize=15)"
   ]
  },
  {
   "cell_type": "markdown",
   "metadata": {},
   "source": [
    "### Distribution of excursion rate by time period"
   ]
  },
  {
   "cell_type": "code",
   "execution_count": 53,
   "metadata": {},
   "outputs": [],
   "source": [
    "sql_script=\"\"\"\n",
    " (\n",
    "  SELECT\n",
    "    pim_id,\n",
    "    'Sleep (0,6]' AS time_range,\n",
    "    excursion_size/(time_to_peak+0.01) AS excursion_rate\n",
    "  FROM\n",
    "    odp_level2_feature_store.meal_events\n",
    "  WHERE\n",
    "    EXTRACT(hour\n",
    "    FROM\n",
    "      start_datetime_local)<=6\n",
    "    AND EXTRACT(hour\n",
    "    FROM\n",
    "      start_datetime_local)>0\n",
    ")\n",
    "UNION ALL (\n",
    "  SELECT\n",
    "    pim_id,\n",
    "    'Morning (6,12]' AS time_range,\n",
    "    excursion_size/(time_to_peak+0.01) AS excursion_rate\n",
    "  FROM\n",
    "    odp_level2_feature_store.meal_events\n",
    "  WHERE\n",
    "    EXTRACT(hour\n",
    "    FROM\n",
    "      start_datetime_local)<=12\n",
    "    AND EXTRACT(hour\n",
    "    FROM\n",
    "      start_datetime_local)>6)\n",
    "UNION ALL (\n",
    "  SELECT\n",
    "    pim_id,\n",
    "    'Afternoon (12,18]' AS time_range,\n",
    "    excursion_size/(time_to_peak+0.01) AS excursion_rate\n",
    "  FROM\n",
    "    odp_level2_feature_store.meal_events\n",
    "  WHERE\n",
    "    EXTRACT(hour\n",
    "    FROM\n",
    "      start_datetime_local)<=18\n",
    "    AND EXTRACT(hour\n",
    "    FROM\n",
    "      start_datetime_local)>12)\n",
    "UNION ALL (\n",
    "  SELECT\n",
    "    pim_id,\n",
    "    'Night (18,24]' AS time_range,\n",
    "    excursion_size/(time_to_peak+0.01) AS excursion_rate\n",
    "  FROM\n",
    "    odp_level2_feature_store.meal_events\n",
    "  WHERE\n",
    "    (EXTRACT(hour\n",
    "      FROM\n",
    "        start_datetime_local)<=23\n",
    "      AND EXTRACT(hour\n",
    "      FROM\n",
    "        start_datetime_local)>18)\n",
    "    OR (EXTRACT(hour\n",
    "      FROM\n",
    "        start_datetime_local)=0))\n",
    "\"\"\""
   ]
  },
  {
   "cell_type": "code",
   "execution_count": 54,
   "metadata": {},
   "outputs": [],
   "source": [
    "excursion_rate=pd.read_gbq(sql_script,\\\n",
    "                             'research-01-217611', dialect='standard')"
   ]
  },
  {
   "cell_type": "code",
   "execution_count": 55,
   "metadata": {},
   "outputs": [
    {
     "data": {
      "text/plain": [
       "time_range\n",
       "Afternoon (12,18]    0.872104\n",
       "Morning (6,12]       0.958672\n",
       "Night (18,24]        0.834476\n",
       "Sleep (0,6]          0.654378\n",
       "Name: excursion_rate, dtype: float64"
      ]
     },
     "execution_count": 55,
     "metadata": {},
     "output_type": "execute_result"
    }
   ],
   "source": [
    "excursion_rate.groupby('time_range')['excursion_rate'].mean()\n"
   ]
  },
  {
   "cell_type": "code",
   "execution_count": 56,
   "metadata": {},
   "outputs": [
    {
     "data": {
      "text/plain": [
       "time_range\n",
       "Afternoon (12,18]    0.692254\n",
       "Morning (6,12]       0.777605\n",
       "Night (18,24]        0.657049\n",
       "Sleep (0,6]          0.426624\n",
       "Name: excursion_rate, dtype: float64"
      ]
     },
     "execution_count": 56,
     "metadata": {},
     "output_type": "execute_result"
    }
   ],
   "source": [
    "excursion_rate.groupby('time_range')['excursion_rate'].median()\n"
   ]
  },
  {
   "cell_type": "code",
   "execution_count": 59,
   "metadata": {},
   "outputs": [
    {
     "data": {
      "text/plain": [
       "Text(0, 0.5, 'average excursion rate')"
      ]
     },
     "execution_count": 59,
     "metadata": {},
     "output_type": "execute_result"
    },
    {
     "data": {
      "image/png": "[encoded data removed]",
      "text/plain": [
       "<Figure size 1080x576 with 1 Axes>"
      ]
     },
     "metadata": {
      "needs_background": "light"
     },
     "output_type": "display_data"
    }
   ],
   "source": [
    "var = 'time_range'\n",
    "#data = pd.concat([df_train['SalePrice'], df_train[var]], axis=1)\n",
    "f, ax = plt.subplots(figsize=(15, 8))\n",
    "fig = sns.boxplot(x=var, y=\"excursion_rate\", data=excursion_rate,showfliers=False)\n",
    "fig.axis(ymin=0, ymax=3);\n",
    "plt.title('Boxplot of average excursion rate', fontsize=15)\n",
    "plt.xlabel('Start Time Period in One Day', fontsize=12)\n",
    "plt.ylabel('average excursion rate',fontsize=15)"
   ]
  },
  {
   "cell_type": "code",
   "execution_count": null,
   "metadata": {},
   "outputs": [],
   "source": []
  }
 ],
 "metadata": {
  "kernelspec": {
   "display_name": "Python 3",
   "language": "python",
   "name": "python3"
  },
  "language_info": {
   "codemirror_mode": {
    "name": "ipython",
    "version": 3
   },
   "file_extension": ".py",
   "mimetype": "text/x-python",
   "name": "python",
   "nbconvert_exporter": "python",
   "pygments_lexer": "ipython3",
   "version": "3.7.5"
  }
 },
 "nbformat": 4,
 "nbformat_minor": 2
}
